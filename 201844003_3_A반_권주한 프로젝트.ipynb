{
  "nbformat": 4,
  "nbformat_minor": 0,
  "metadata": {
    "colab": {
      "provenance": [],
      "mount_file_id": "1UUsr1vomCkF98RkLbbgJTw9OTlZnqcMo",
      "authorship_tag": "ABX9TyMyWr5Lk5AUgFcdEAFKnj4U",
      "include_colab_link": true
    },
    "kernelspec": {
      "name": "python3",
      "display_name": "Python 3"
    },
    "language_info": {
      "name": "python"
    }
  },
  "cells": [
    {
      "cell_type": "markdown",
      "metadata": {
        "id": "view-in-github",
        "colab_type": "text"
      },
      "source": [
        "<a href=\"https://colab.research.google.com/github/lokloc/bigdata_project/blob/main/201844003_3_A%EB%B0%98_%EA%B6%8C%EC%A3%BC%ED%95%9C%20%ED%94%84%EB%A1%9C%EC%A0%9D%ED%8A%B8.ipynb\" target=\"_parent\"><img src=\"https://colab.research.google.com/assets/colab-badge.svg\" alt=\"Open In Colab\"/></a>"
      ]
    },
    {
      "cell_type": "markdown",
      "source": [
        "# **빅데이터 처리 프로젝트**\n",
        "\n",
        "by 권주한"
      ],
      "metadata": {
        "id": "JxBuUwsoZD35"
      }
    },
    {
      "cell_type": "markdown",
      "source": [
        "--------------------------------------------------------------------------------"
      ],
      "metadata": {
        "id": "BWKwDkcaZaRW"
      }
    },
    {
      "cell_type": "markdown",
      "source": [
        "#  한국 유튜브 영상 데이터 분석하기"
      ],
      "metadata": {
        "id": "CQiUWVs0ZgEz"
      }
    },
    {
      "cell_type": "markdown",
      "source": [
        "- **캐글 install**\n"
      ],
      "metadata": {
        "id": "6jpz-yalZy7U"
      }
    },
    {
      "cell_type": "code",
      "execution_count": null,
      "metadata": {
        "colab": {
          "base_uri": "https://localhost:8080/"
        },
        "id": "TOp30bucUvQX",
        "outputId": "d423162c-151a-4f45-da09-a0acaf158ae4"
      },
      "outputs": [
        {
          "output_type": "stream",
          "name": "stdout",
          "text": [
            "Looking in indexes: https://pypi.org/simple, https://us-python.pkg.dev/colab-wheels/public/simple/\n",
            "Requirement already satisfied: kaggle in /usr/local/lib/python3.8/dist-packages (1.5.12)\n",
            "Requirement already satisfied: urllib3 in /usr/local/lib/python3.8/dist-packages (from kaggle) (1.24.3)\n",
            "Requirement already satisfied: python-slugify in /usr/local/lib/python3.8/dist-packages (from kaggle) (7.0.0)\n",
            "Requirement already satisfied: tqdm in /usr/local/lib/python3.8/dist-packages (from kaggle) (4.64.1)\n",
            "Requirement already satisfied: requests in /usr/local/lib/python3.8/dist-packages (from kaggle) (2.23.0)\n",
            "Requirement already satisfied: six>=1.10 in /usr/local/lib/python3.8/dist-packages (from kaggle) (1.15.0)\n",
            "Requirement already satisfied: certifi in /usr/local/lib/python3.8/dist-packages (from kaggle) (2022.9.24)\n",
            "Requirement already satisfied: python-dateutil in /usr/local/lib/python3.8/dist-packages (from kaggle) (2.8.2)\n",
            "Requirement already satisfied: text-unidecode>=1.3 in /usr/local/lib/python3.8/dist-packages (from python-slugify->kaggle) (1.3)\n",
            "Requirement already satisfied: idna<3,>=2.5 in /usr/local/lib/python3.8/dist-packages (from requests->kaggle) (2.10)\n",
            "Requirement already satisfied: chardet<4,>=3.0.2 in /usr/local/lib/python3.8/dist-packages (from requests->kaggle) (3.0.4)\n"
          ]
        }
      ],
      "source": [
        "!pip install kaggle"
      ]
    },
    {
      "cell_type": "markdown",
      "source": [
        "- **구글 드라이브에 있는 Kaggle API를 가져오기 위한 설정**"
      ],
      "metadata": {
        "id": "S1g9LaVkbOft"
      }
    },
    {
      "cell_type": "code",
      "source": [
        "from google.colab import drive\n",
        "drive.mount('/content/drive')"
      ],
      "metadata": {
        "colab": {
          "base_uri": "https://localhost:8080/"
        },
        "id": "PD4CWoDVVlPB",
        "outputId": "772dcc5b-3ba2-4d54-8b59-39f95fcd81ec"
      },
      "execution_count": null,
      "outputs": [
        {
          "output_type": "stream",
          "name": "stdout",
          "text": [
            "Mounted at /content/drive\n"
          ]
        }
      ]
    },
    {
      "cell_type": "code",
      "source": [
        "! mkdir ~/.kaggle"
      ],
      "metadata": {
        "id": "BlWnv5abWLa3"
      },
      "execution_count": null,
      "outputs": []
    },
    {
      "cell_type": "code",
      "source": [
        "!cp /content/drive/MyDrive/kaggle.json ~/.kaggle/kaggle.json"
      ],
      "metadata": {
        "id": "gIURA4NwXU2-"
      },
      "execution_count": null,
      "outputs": []
    },
    {
      "cell_type": "markdown",
      "source": [
        "- **캐글에 있는 youtube-trending-video 데이터셋 가져오기**"
      ],
      "metadata": {
        "id": "fzeJUTlUba6f"
      }
    },
    {
      "cell_type": "code",
      "source": [
        "!kaggle datasets download -d rsrishav/youtube-trending-video-dataset"
      ],
      "metadata": {
        "colab": {
          "base_uri": "https://localhost:8080/"
        },
        "id": "amAp3KcxhJI4",
        "outputId": "17c4f8ee-af22-425e-ec06-402f2999f9e0"
      },
      "execution_count": null,
      "outputs": [
        {
          "output_type": "stream",
          "name": "stdout",
          "text": [
            "Downloading youtube-trending-video-dataset.zip to /content\n",
            " 99% 1.05G/1.07G [00:09<00:00, 107MB/s]\n",
            "100% 1.07G/1.07G [00:09<00:00, 119MB/s]\n"
          ]
        }
      ]
    },
    {
      "cell_type": "code",
      "source": [
        "!unzip /content/KR_youtube_trending_data.csv.zip"
      ],
      "metadata": {
        "colab": {
          "base_uri": "https://localhost:8080/"
        },
        "id": "NIsbbEA3Xe-c",
        "outputId": "d67ae006-8b77-42d7-dc3c-88692a0f7de7"
      },
      "execution_count": null,
      "outputs": [
        {
          "output_type": "stream",
          "name": "stdout",
          "text": [
            "Archive:  /content/KR_youtube_trending_data.csv.zip\n",
            "  End-of-central-directory signature not found.  Either this file is not\n",
            "  a zipfile, or it constitutes one disk of a multi-part archive.  In the\n",
            "  latter case the central directory and zipfile comment will be found on\n",
            "  the last disk(s) of this archive.\n",
            "unzip:  cannot find zipfile directory in one of /content/KR_youtube_trending_data.csv.zip or\n",
            "        /content/KR_youtube_trending_data.csv.zip.zip, and cannot find /content/KR_youtube_trending_data.csv.zip.ZIP, period.\n"
          ]
        }
      ]
    },
    {
      "cell_type": "code",
      "source": [
        "! unzip youtube-trending-video-dataset.zip"
      ],
      "metadata": {
        "colab": {
          "base_uri": "https://localhost:8080/"
        },
        "id": "wteNvdxphevp",
        "outputId": "5519f592-d062-4941-bff1-c4e23b37f85f"
      },
      "execution_count": null,
      "outputs": [
        {
          "output_type": "stream",
          "name": "stdout",
          "text": [
            "Archive:  youtube-trending-video-dataset.zip\n",
            "  inflating: BR_category_id.json     \n",
            "  inflating: BR_youtube_trending_data.csv  \n",
            "  inflating: CA_category_id.json     \n",
            "  inflating: CA_youtube_trending_data.csv  \n",
            "  inflating: DE_category_id.json     \n",
            "  inflating: DE_youtube_trending_data.csv  \n",
            "  inflating: FR_category_id.json     \n",
            "  inflating: FR_youtube_trending_data.csv  \n",
            "  inflating: GB_category_id.json     \n",
            "  inflating: GB_youtube_trending_data.csv  \n",
            "  inflating: IN_category_id.json     \n",
            "  inflating: IN_youtube_trending_data.csv  \n",
            "  inflating: JP_category_id.json     \n",
            "  inflating: JP_youtube_trending_data.csv  \n",
            "  inflating: KR_category_id.json     \n",
            "replace KR_youtube_trending_data.csv? [y]es, [n]o, [A]ll, [N]one, [r]ename: y\n",
            "  inflating: KR_youtube_trending_data.csv  \n",
            "  inflating: MX_category_id.json     \n",
            "  inflating: MX_youtube_trending_data.csv  \n",
            "  inflating: RU_category_id.json     \n",
            "  inflating: RU_youtube_trending_data.csv  \n",
            "  inflating: US_category_id.json     \n",
            "  inflating: US_youtube_trending_data.csv  \n"
          ]
        }
      ]
    },
    {
      "cell_type": "markdown",
      "source": [
        "# ***데이터의 기초 정보 살펴보기***"
      ],
      "metadata": {
        "id": "cfSKjQnAdAYX"
      }
    },
    {
      "cell_type": "markdown",
      "source": [
        "- **데이터셋에 대한 차원적 이해**\n",
        "- **각 열의 데이터 유형 요약**\n",
        "- **데이터셋의 통계적 요약/숫자 열 설명**\n",
        "- **숫자가 아닌 열에 대한 설명**"
      ],
      "metadata": {
        "id": "8XQRVHg9ddL2"
      }
    },
    {
      "cell_type": "markdown",
      "source": [
        "----------------------------------------------------------\n",
        "*위 서브 목표를 달성하기 위해*"
      ],
      "metadata": {
        "id": "y5EFK1yMd-5N"
      }
    },
    {
      "cell_type": "code",
      "source": [
        "# -*- coding: utf-8 -*-\n",
        "\n",
        "# 라이브러리 불러오기\n",
        "import pandas as pd\n",
        "import numpy as np\n",
        "import seaborn as sns\n",
        "import json\n",
        "from matplotlib import cm\n",
        "import matplotlib.pyplot as plt\n",
        "from wordcloud import WordCloud, STOPWORDS\n",
        "import matplotlib.font_manager as fm\n",
        "from scipy import stats\n",
        "import statsmodels.api as sm\n",
        "from statsmodels.stats.outliers_influence import variance_inflation_factor\n",
        "from statsmodels.tools.tools import add_constant\n",
        "\n",
        "\n",
        "\n",
        "\n",
        "\n",
        "df = pd.read_csv('/content/KR_youtube_trending_data.csv')"
      ],
      "metadata": {
        "id": "tVWix6MpiTSn"
      },
      "execution_count": 122,
      "outputs": []
    },
    {
      "cell_type": "markdown",
      "source": [
        "1.  **데이터셋의 첫 5줄을 출력해주면서 해당 데이터셋에 대한 감 잡기**"
      ],
      "metadata": {
        "id": "LFGVsVFBnmv3"
      }
    },
    {
      "cell_type": "code",
      "source": [
        "df.head()"
      ],
      "metadata": {
        "colab": {
          "base_uri": "https://localhost:8080/",
          "height": 704
        },
        "id": "fMSMyDmznt6M",
        "outputId": "31f6d852-def1-4424-dcd0-178c3929a97d"
      },
      "execution_count": 96,
      "outputs": [
        {
          "output_type": "execute_result",
          "data": {
            "text/plain": [
              "      video_id                                             title  \\\n",
              "0  uq5LClQN3cE                                       안녕하세요 보겸입니다   \n",
              "1  I-ZbZCHsHD0                                부락토스의 계획 [총몇명 프리퀄]   \n",
              "2  9d7jNUjBoss                                   평생 반성하면서 살겠습니다.   \n",
              "3  3pI_L3-sMVg                              안녕하세요 꽈뚜룹입니다.   \n",
              "4  zrsBjYukE8s  박진영 (J.Y. Park) When We Disco (Duet with 선미) M/V   \n",
              "\n",
              "            publishedAt                 channelId       channelTitle  \\\n",
              "0  2020-08-09T09:32:48Z  UCu9BCtGIEr73LXZsKmoujKw              보겸 BK   \n",
              "1  2020-08-12T09:00:08Z  UCRuSxVu4iqTK5kCh90ntAgA                총몇명   \n",
              "2  2020-08-10T09:54:13Z  UCMVC92EOs9yDJG5JS-CMesQ        양팡 YangPang   \n",
              "3  2020-08-11T15:00:58Z  UCkQCwnkQfgSuPTTnw_Y7v7w      꽈뚜룹 Quaddurup   \n",
              "4  2020-08-11T09:00:13Z  UCaO6TYtlC8U5ttz62hTrZgg  JYP Entertainment   \n",
              "\n",
              "   categoryId         trending_date  \\\n",
              "0          24  2020-08-12T00:00:00Z   \n",
              "1           1  2020-08-12T00:00:00Z   \n",
              "2          22  2020-08-12T00:00:00Z   \n",
              "3          24  2020-08-12T00:00:00Z   \n",
              "4          10  2020-08-12T00:00:00Z   \n",
              "\n",
              "                                                tags  view_count   likes  \\\n",
              "0                                          보겸|bokyem     5947503   53326   \n",
              "1                총몇명|재밌는 만화|부락토스|루시퍼|총몇명 프리퀄|총몇명 스토리      963384   28244   \n",
              "2  양팡|양팡유튜브|팡튜브|가족시트콤|양팡가족|양팡가족시트콤|양팡언니|현실남매|현실자매...     2950885   17974   \n",
              "3  꽈뚜룹|한국여행기|quaddurup|뚜룹이|korea|southkorea|vlog|...     1743374   36893   \n",
              "4  JYP Entertainment|JYP|J.Y.Park|JYPark|박진영|선미|S...     3433885  353337   \n",
              "\n",
              "   dislikes  comment_count                                  thumbnail_link  \\\n",
              "0    105756         139946  https://i.ytimg.com/vi/uq5LClQN3cE/default.jpg   \n",
              "1       494           3339  https://i.ytimg.com/vi/I-ZbZCHsHD0/default.jpg   \n",
              "2     68898          50688  https://i.ytimg.com/vi/9d7jNUjBoss/default.jpg   \n",
              "3      1798           8751  https://i.ytimg.com/vi/3pI_L3-sMVg/default.jpg   \n",
              "4      9763          23405  https://i.ytimg.com/vi/zrsBjYukE8s/default.jpg   \n",
              "\n",
              "   comments_disabled  ratings_disabled  \\\n",
              "0              False             False   \n",
              "1              False             False   \n",
              "2              False             False   \n",
              "3              False             False   \n",
              "4              False             False   \n",
              "\n",
              "                                         description  \n",
              "0                                                NaN  \n",
              "1  오늘도 정말 감사드립니다!!총몇명 스튜디오 - 총몇명, 십제곱, 5G민, MOVE혁...  \n",
              "2                                                NaN  \n",
              "3                앞으로 좀 더 깔끔한 영상제작 약속 드리겠습니다.늘 감사드립니다  \n",
              "4  MelOn http://kko.to/TWyXd7zYjSpotify https://s...  "
            ],
            "text/html": [
              "\n",
              "  <div id=\"df-34f0fa6a-d48e-4dc6-9633-67c05942c872\">\n",
              "    <div class=\"colab-df-container\">\n",
              "      <div>\n",
              "<style scoped>\n",
              "    .dataframe tbody tr th:only-of-type {\n",
              "        vertical-align: middle;\n",
              "    }\n",
              "\n",
              "    .dataframe tbody tr th {\n",
              "        vertical-align: top;\n",
              "    }\n",
              "\n",
              "    .dataframe thead th {\n",
              "        text-align: right;\n",
              "    }\n",
              "</style>\n",
              "<table border=\"1\" class=\"dataframe\">\n",
              "  <thead>\n",
              "    <tr style=\"text-align: right;\">\n",
              "      <th></th>\n",
              "      <th>video_id</th>\n",
              "      <th>title</th>\n",
              "      <th>publishedAt</th>\n",
              "      <th>channelId</th>\n",
              "      <th>channelTitle</th>\n",
              "      <th>categoryId</th>\n",
              "      <th>trending_date</th>\n",
              "      <th>tags</th>\n",
              "      <th>view_count</th>\n",
              "      <th>likes</th>\n",
              "      <th>dislikes</th>\n",
              "      <th>comment_count</th>\n",
              "      <th>thumbnail_link</th>\n",
              "      <th>comments_disabled</th>\n",
              "      <th>ratings_disabled</th>\n",
              "      <th>description</th>\n",
              "    </tr>\n",
              "  </thead>\n",
              "  <tbody>\n",
              "    <tr>\n",
              "      <th>0</th>\n",
              "      <td>uq5LClQN3cE</td>\n",
              "      <td>안녕하세요 보겸입니다</td>\n",
              "      <td>2020-08-09T09:32:48Z</td>\n",
              "      <td>UCu9BCtGIEr73LXZsKmoujKw</td>\n",
              "      <td>보겸 BK</td>\n",
              "      <td>24</td>\n",
              "      <td>2020-08-12T00:00:00Z</td>\n",
              "      <td>보겸|bokyem</td>\n",
              "      <td>5947503</td>\n",
              "      <td>53326</td>\n",
              "      <td>105756</td>\n",
              "      <td>139946</td>\n",
              "      <td>https://i.ytimg.com/vi/uq5LClQN3cE/default.jpg</td>\n",
              "      <td>False</td>\n",
              "      <td>False</td>\n",
              "      <td>NaN</td>\n",
              "    </tr>\n",
              "    <tr>\n",
              "      <th>1</th>\n",
              "      <td>I-ZbZCHsHD0</td>\n",
              "      <td>부락토스의 계획 [총몇명 프리퀄]</td>\n",
              "      <td>2020-08-12T09:00:08Z</td>\n",
              "      <td>UCRuSxVu4iqTK5kCh90ntAgA</td>\n",
              "      <td>총몇명</td>\n",
              "      <td>1</td>\n",
              "      <td>2020-08-12T00:00:00Z</td>\n",
              "      <td>총몇명|재밌는 만화|부락토스|루시퍼|총몇명 프리퀄|총몇명 스토리</td>\n",
              "      <td>963384</td>\n",
              "      <td>28244</td>\n",
              "      <td>494</td>\n",
              "      <td>3339</td>\n",
              "      <td>https://i.ytimg.com/vi/I-ZbZCHsHD0/default.jpg</td>\n",
              "      <td>False</td>\n",
              "      <td>False</td>\n",
              "      <td>오늘도 정말 감사드립니다!!총몇명 스튜디오 - 총몇명, 십제곱, 5G민, MOVE혁...</td>\n",
              "    </tr>\n",
              "    <tr>\n",
              "      <th>2</th>\n",
              "      <td>9d7jNUjBoss</td>\n",
              "      <td>평생 반성하면서 살겠습니다.</td>\n",
              "      <td>2020-08-10T09:54:13Z</td>\n",
              "      <td>UCMVC92EOs9yDJG5JS-CMesQ</td>\n",
              "      <td>양팡 YangPang</td>\n",
              "      <td>22</td>\n",
              "      <td>2020-08-12T00:00:00Z</td>\n",
              "      <td>양팡|양팡유튜브|팡튜브|가족시트콤|양팡가족|양팡가족시트콤|양팡언니|현실남매|현실자매...</td>\n",
              "      <td>2950885</td>\n",
              "      <td>17974</td>\n",
              "      <td>68898</td>\n",
              "      <td>50688</td>\n",
              "      <td>https://i.ytimg.com/vi/9d7jNUjBoss/default.jpg</td>\n",
              "      <td>False</td>\n",
              "      <td>False</td>\n",
              "      <td>NaN</td>\n",
              "    </tr>\n",
              "    <tr>\n",
              "      <th>3</th>\n",
              "      <td>3pI_L3-sMVg</td>\n",
              "      <td>안녕하세요 꽈뚜룹입니다.</td>\n",
              "      <td>2020-08-11T15:00:58Z</td>\n",
              "      <td>UCkQCwnkQfgSuPTTnw_Y7v7w</td>\n",
              "      <td>꽈뚜룹 Quaddurup</td>\n",
              "      <td>24</td>\n",
              "      <td>2020-08-12T00:00:00Z</td>\n",
              "      <td>꽈뚜룹|한국여행기|quaddurup|뚜룹이|korea|southkorea|vlog|...</td>\n",
              "      <td>1743374</td>\n",
              "      <td>36893</td>\n",
              "      <td>1798</td>\n",
              "      <td>8751</td>\n",
              "      <td>https://i.ytimg.com/vi/3pI_L3-sMVg/default.jpg</td>\n",
              "      <td>False</td>\n",
              "      <td>False</td>\n",
              "      <td>앞으로 좀 더 깔끔한 영상제작 약속 드리겠습니다.늘 감사드립니다</td>\n",
              "    </tr>\n",
              "    <tr>\n",
              "      <th>4</th>\n",
              "      <td>zrsBjYukE8s</td>\n",
              "      <td>박진영 (J.Y. Park) When We Disco (Duet with 선미) M/V</td>\n",
              "      <td>2020-08-11T09:00:13Z</td>\n",
              "      <td>UCaO6TYtlC8U5ttz62hTrZgg</td>\n",
              "      <td>JYP Entertainment</td>\n",
              "      <td>10</td>\n",
              "      <td>2020-08-12T00:00:00Z</td>\n",
              "      <td>JYP Entertainment|JYP|J.Y.Park|JYPark|박진영|선미|S...</td>\n",
              "      <td>3433885</td>\n",
              "      <td>353337</td>\n",
              "      <td>9763</td>\n",
              "      <td>23405</td>\n",
              "      <td>https://i.ytimg.com/vi/zrsBjYukE8s/default.jpg</td>\n",
              "      <td>False</td>\n",
              "      <td>False</td>\n",
              "      <td>MelOn http://kko.to/TWyXd7zYjSpotify https://s...</td>\n",
              "    </tr>\n",
              "  </tbody>\n",
              "</table>\n",
              "</div>\n",
              "      <button class=\"colab-df-convert\" onclick=\"convertToInteractive('df-34f0fa6a-d48e-4dc6-9633-67c05942c872')\"\n",
              "              title=\"Convert this dataframe to an interactive table.\"\n",
              "              style=\"display:none;\">\n",
              "        \n",
              "  <svg xmlns=\"http://www.w3.org/2000/svg\" height=\"24px\"viewBox=\"0 0 24 24\"\n",
              "       width=\"24px\">\n",
              "    <path d=\"M0 0h24v24H0V0z\" fill=\"none\"/>\n",
              "    <path d=\"M18.56 5.44l.94 2.06.94-2.06 2.06-.94-2.06-.94-.94-2.06-.94 2.06-2.06.94zm-11 1L8.5 8.5l.94-2.06 2.06-.94-2.06-.94L8.5 2.5l-.94 2.06-2.06.94zm10 10l.94 2.06.94-2.06 2.06-.94-2.06-.94-.94-2.06-.94 2.06-2.06.94z\"/><path d=\"M17.41 7.96l-1.37-1.37c-.4-.4-.92-.59-1.43-.59-.52 0-1.04.2-1.43.59L10.3 9.45l-7.72 7.72c-.78.78-.78 2.05 0 2.83L4 21.41c.39.39.9.59 1.41.59.51 0 1.02-.2 1.41-.59l7.78-7.78 2.81-2.81c.8-.78.8-2.07 0-2.86zM5.41 20L4 18.59l7.72-7.72 1.47 1.35L5.41 20z\"/>\n",
              "  </svg>\n",
              "      </button>\n",
              "      \n",
              "  <style>\n",
              "    .colab-df-container {\n",
              "      display:flex;\n",
              "      flex-wrap:wrap;\n",
              "      gap: 12px;\n",
              "    }\n",
              "\n",
              "    .colab-df-convert {\n",
              "      background-color: #E8F0FE;\n",
              "      border: none;\n",
              "      border-radius: 50%;\n",
              "      cursor: pointer;\n",
              "      display: none;\n",
              "      fill: #1967D2;\n",
              "      height: 32px;\n",
              "      padding: 0 0 0 0;\n",
              "      width: 32px;\n",
              "    }\n",
              "\n",
              "    .colab-df-convert:hover {\n",
              "      background-color: #E2EBFA;\n",
              "      box-shadow: 0px 1px 2px rgba(60, 64, 67, 0.3), 0px 1px 3px 1px rgba(60, 64, 67, 0.15);\n",
              "      fill: #174EA6;\n",
              "    }\n",
              "\n",
              "    [theme=dark] .colab-df-convert {\n",
              "      background-color: #3B4455;\n",
              "      fill: #D2E3FC;\n",
              "    }\n",
              "\n",
              "    [theme=dark] .colab-df-convert:hover {\n",
              "      background-color: #434B5C;\n",
              "      box-shadow: 0px 1px 3px 1px rgba(0, 0, 0, 0.15);\n",
              "      filter: drop-shadow(0px 1px 2px rgba(0, 0, 0, 0.3));\n",
              "      fill: #FFFFFF;\n",
              "    }\n",
              "  </style>\n",
              "\n",
              "      <script>\n",
              "        const buttonEl =\n",
              "          document.querySelector('#df-34f0fa6a-d48e-4dc6-9633-67c05942c872 button.colab-df-convert');\n",
              "        buttonEl.style.display =\n",
              "          google.colab.kernel.accessAllowed ? 'block' : 'none';\n",
              "\n",
              "        async function convertToInteractive(key) {\n",
              "          const element = document.querySelector('#df-34f0fa6a-d48e-4dc6-9633-67c05942c872');\n",
              "          const dataTable =\n",
              "            await google.colab.kernel.invokeFunction('convertToInteractive',\n",
              "                                                     [key], {});\n",
              "          if (!dataTable) return;\n",
              "\n",
              "          const docLinkHtml = 'Like what you see? Visit the ' +\n",
              "            '<a target=\"_blank\" href=https://colab.research.google.com/notebooks/data_table.ipynb>data table notebook</a>'\n",
              "            + ' to learn more about interactive tables.';\n",
              "          element.innerHTML = '';\n",
              "          dataTable['output_type'] = 'display_data';\n",
              "          await google.colab.output.renderOutput(dataTable, element);\n",
              "          const docLink = document.createElement('div');\n",
              "          docLink.innerHTML = docLinkHtml;\n",
              "          element.appendChild(docLink);\n",
              "        }\n",
              "      </script>\n",
              "    </div>\n",
              "  </div>\n",
              "  "
            ]
          },
          "metadata": {},
          "execution_count": 96
        }
      ]
    },
    {
      "cell_type": "markdown",
      "source": [
        "2. **컬럼과 들어있는 관련 데이터 유형을 살펴봅시다**"
      ],
      "metadata": {
        "id": "hAhSNOkhn2MA"
      }
    },
    {
      "cell_type": "code",
      "source": [
        "df.info()"
      ],
      "metadata": {
        "colab": {
          "base_uri": "https://localhost:8080/"
        },
        "id": "cJBgQ93DoB2-",
        "outputId": "9de6453d-bfba-4481-b277-7b7012f4c266"
      },
      "execution_count": 97,
      "outputs": [
        {
          "output_type": "stream",
          "name": "stdout",
          "text": [
            "<class 'pandas.core.frame.DataFrame'>\n",
            "RangeIndex: 167954 entries, 0 to 167953\n",
            "Data columns (total 16 columns):\n",
            " #   Column             Non-Null Count   Dtype \n",
            "---  ------             --------------   ----- \n",
            " 0   video_id           167954 non-null  object\n",
            " 1   title              167954 non-null  object\n",
            " 2   publishedAt        167954 non-null  object\n",
            " 3   channelId          167954 non-null  object\n",
            " 4   channelTitle       167954 non-null  object\n",
            " 5   categoryId         167954 non-null  int64 \n",
            " 6   trending_date      167954 non-null  object\n",
            " 7   tags               167954 non-null  object\n",
            " 8   view_count         167954 non-null  int64 \n",
            " 9   likes              167954 non-null  int64 \n",
            " 10  dislikes           167954 non-null  int64 \n",
            " 11  comment_count      167954 non-null  int64 \n",
            " 12  thumbnail_link     167954 non-null  object\n",
            " 13  comments_disabled  167954 non-null  bool  \n",
            " 14  ratings_disabled   167954 non-null  bool  \n",
            " 15  description        164038 non-null  object\n",
            "dtypes: bool(2), int64(5), object(9)\n",
            "memory usage: 18.3+ MB\n"
          ]
        }
      ]
    },
    {
      "cell_type": "markdown",
      "source": [
        "3. **열의 통계 요약**"
      ],
      "metadata": {
        "id": "mXAB8fu4ox1i"
      }
    },
    {
      "cell_type": "code",
      "source": [
        "df.describe()"
      ],
      "metadata": {
        "colab": {
          "base_uri": "https://localhost:8080/",
          "height": 300
        },
        "id": "_5sBq8Emo4lq",
        "outputId": "fb3b1cc5-7ce6-4eb6-869b-4b46f7bab1e4"
      },
      "execution_count": 98,
      "outputs": [
        {
          "output_type": "execute_result",
          "data": {
            "text/plain": [
              "          categoryId    view_count         likes       dislikes  comment_count\n",
              "count  167954.000000  1.679540e+05  1.679540e+05  167954.000000   1.679540e+05\n",
              "mean       20.434875  1.719019e+06  7.585814e+04     712.603624   8.781213e+03\n",
              "std         6.170512  6.610227e+06  4.323286e+05    8744.548550   1.096421e+05\n",
              "min         1.000000  0.000000e+00  0.000000e+00       0.000000   0.000000e+00\n",
              "25%        19.000000  3.476110e+05  5.908250e+03       0.000000   5.430000e+02\n",
              "50%        23.000000  6.719070e+05  1.180100e+04      68.000000   1.197000e+03\n",
              "75%        24.000000  1.345630e+06  2.717975e+04     278.000000   2.788000e+03\n",
              "max        29.000000  2.963142e+08  1.646425e+07  879358.000000   6.939302e+06"
            ],
            "text/html": [
              "\n",
              "  <div id=\"df-99086734-a314-4cc1-858a-11f5c49dafb6\">\n",
              "    <div class=\"colab-df-container\">\n",
              "      <div>\n",
              "<style scoped>\n",
              "    .dataframe tbody tr th:only-of-type {\n",
              "        vertical-align: middle;\n",
              "    }\n",
              "\n",
              "    .dataframe tbody tr th {\n",
              "        vertical-align: top;\n",
              "    }\n",
              "\n",
              "    .dataframe thead th {\n",
              "        text-align: right;\n",
              "    }\n",
              "</style>\n",
              "<table border=\"1\" class=\"dataframe\">\n",
              "  <thead>\n",
              "    <tr style=\"text-align: right;\">\n",
              "      <th></th>\n",
              "      <th>categoryId</th>\n",
              "      <th>view_count</th>\n",
              "      <th>likes</th>\n",
              "      <th>dislikes</th>\n",
              "      <th>comment_count</th>\n",
              "    </tr>\n",
              "  </thead>\n",
              "  <tbody>\n",
              "    <tr>\n",
              "      <th>count</th>\n",
              "      <td>167954.000000</td>\n",
              "      <td>1.679540e+05</td>\n",
              "      <td>1.679540e+05</td>\n",
              "      <td>167954.000000</td>\n",
              "      <td>1.679540e+05</td>\n",
              "    </tr>\n",
              "    <tr>\n",
              "      <th>mean</th>\n",
              "      <td>20.434875</td>\n",
              "      <td>1.719019e+06</td>\n",
              "      <td>7.585814e+04</td>\n",
              "      <td>712.603624</td>\n",
              "      <td>8.781213e+03</td>\n",
              "    </tr>\n",
              "    <tr>\n",
              "      <th>std</th>\n",
              "      <td>6.170512</td>\n",
              "      <td>6.610227e+06</td>\n",
              "      <td>4.323286e+05</td>\n",
              "      <td>8744.548550</td>\n",
              "      <td>1.096421e+05</td>\n",
              "    </tr>\n",
              "    <tr>\n",
              "      <th>min</th>\n",
              "      <td>1.000000</td>\n",
              "      <td>0.000000e+00</td>\n",
              "      <td>0.000000e+00</td>\n",
              "      <td>0.000000</td>\n",
              "      <td>0.000000e+00</td>\n",
              "    </tr>\n",
              "    <tr>\n",
              "      <th>25%</th>\n",
              "      <td>19.000000</td>\n",
              "      <td>3.476110e+05</td>\n",
              "      <td>5.908250e+03</td>\n",
              "      <td>0.000000</td>\n",
              "      <td>5.430000e+02</td>\n",
              "    </tr>\n",
              "    <tr>\n",
              "      <th>50%</th>\n",
              "      <td>23.000000</td>\n",
              "      <td>6.719070e+05</td>\n",
              "      <td>1.180100e+04</td>\n",
              "      <td>68.000000</td>\n",
              "      <td>1.197000e+03</td>\n",
              "    </tr>\n",
              "    <tr>\n",
              "      <th>75%</th>\n",
              "      <td>24.000000</td>\n",
              "      <td>1.345630e+06</td>\n",
              "      <td>2.717975e+04</td>\n",
              "      <td>278.000000</td>\n",
              "      <td>2.788000e+03</td>\n",
              "    </tr>\n",
              "    <tr>\n",
              "      <th>max</th>\n",
              "      <td>29.000000</td>\n",
              "      <td>2.963142e+08</td>\n",
              "      <td>1.646425e+07</td>\n",
              "      <td>879358.000000</td>\n",
              "      <td>6.939302e+06</td>\n",
              "    </tr>\n",
              "  </tbody>\n",
              "</table>\n",
              "</div>\n",
              "      <button class=\"colab-df-convert\" onclick=\"convertToInteractive('df-99086734-a314-4cc1-858a-11f5c49dafb6')\"\n",
              "              title=\"Convert this dataframe to an interactive table.\"\n",
              "              style=\"display:none;\">\n",
              "        \n",
              "  <svg xmlns=\"http://www.w3.org/2000/svg\" height=\"24px\"viewBox=\"0 0 24 24\"\n",
              "       width=\"24px\">\n",
              "    <path d=\"M0 0h24v24H0V0z\" fill=\"none\"/>\n",
              "    <path d=\"M18.56 5.44l.94 2.06.94-2.06 2.06-.94-2.06-.94-.94-2.06-.94 2.06-2.06.94zm-11 1L8.5 8.5l.94-2.06 2.06-.94-2.06-.94L8.5 2.5l-.94 2.06-2.06.94zm10 10l.94 2.06.94-2.06 2.06-.94-2.06-.94-.94-2.06-.94 2.06-2.06.94z\"/><path d=\"M17.41 7.96l-1.37-1.37c-.4-.4-.92-.59-1.43-.59-.52 0-1.04.2-1.43.59L10.3 9.45l-7.72 7.72c-.78.78-.78 2.05 0 2.83L4 21.41c.39.39.9.59 1.41.59.51 0 1.02-.2 1.41-.59l7.78-7.78 2.81-2.81c.8-.78.8-2.07 0-2.86zM5.41 20L4 18.59l7.72-7.72 1.47 1.35L5.41 20z\"/>\n",
              "  </svg>\n",
              "      </button>\n",
              "      \n",
              "  <style>\n",
              "    .colab-df-container {\n",
              "      display:flex;\n",
              "      flex-wrap:wrap;\n",
              "      gap: 12px;\n",
              "    }\n",
              "\n",
              "    .colab-df-convert {\n",
              "      background-color: #E8F0FE;\n",
              "      border: none;\n",
              "      border-radius: 50%;\n",
              "      cursor: pointer;\n",
              "      display: none;\n",
              "      fill: #1967D2;\n",
              "      height: 32px;\n",
              "      padding: 0 0 0 0;\n",
              "      width: 32px;\n",
              "    }\n",
              "\n",
              "    .colab-df-convert:hover {\n",
              "      background-color: #E2EBFA;\n",
              "      box-shadow: 0px 1px 2px rgba(60, 64, 67, 0.3), 0px 1px 3px 1px rgba(60, 64, 67, 0.15);\n",
              "      fill: #174EA6;\n",
              "    }\n",
              "\n",
              "    [theme=dark] .colab-df-convert {\n",
              "      background-color: #3B4455;\n",
              "      fill: #D2E3FC;\n",
              "    }\n",
              "\n",
              "    [theme=dark] .colab-df-convert:hover {\n",
              "      background-color: #434B5C;\n",
              "      box-shadow: 0px 1px 3px 1px rgba(0, 0, 0, 0.15);\n",
              "      filter: drop-shadow(0px 1px 2px rgba(0, 0, 0, 0.3));\n",
              "      fill: #FFFFFF;\n",
              "    }\n",
              "  </style>\n",
              "\n",
              "      <script>\n",
              "        const buttonEl =\n",
              "          document.querySelector('#df-99086734-a314-4cc1-858a-11f5c49dafb6 button.colab-df-convert');\n",
              "        buttonEl.style.display =\n",
              "          google.colab.kernel.accessAllowed ? 'block' : 'none';\n",
              "\n",
              "        async function convertToInteractive(key) {\n",
              "          const element = document.querySelector('#df-99086734-a314-4cc1-858a-11f5c49dafb6');\n",
              "          const dataTable =\n",
              "            await google.colab.kernel.invokeFunction('convertToInteractive',\n",
              "                                                     [key], {});\n",
              "          if (!dataTable) return;\n",
              "\n",
              "          const docLinkHtml = 'Like what you see? Visit the ' +\n",
              "            '<a target=\"_blank\" href=https://colab.research.google.com/notebooks/data_table.ipynb>data table notebook</a>'\n",
              "            + ' to learn more about interactive tables.';\n",
              "          element.innerHTML = '';\n",
              "          dataTable['output_type'] = 'display_data';\n",
              "          await google.colab.output.renderOutput(dataTable, element);\n",
              "          const docLink = document.createElement('div');\n",
              "          docLink.innerHTML = docLinkHtml;\n",
              "          element.appendChild(docLink);\n",
              "        }\n",
              "      </script>\n",
              "    </div>\n",
              "  </div>\n",
              "  "
            ]
          },
          "metadata": {},
          "execution_count": 98
        }
      ]
    },
    {
      "cell_type": "markdown",
      "source": [
        "4. **데이터셋의 영상 데이터 개수**"
      ],
      "metadata": {
        "id": "uqacrWi4fT9D"
      }
    },
    {
      "cell_type": "code",
      "source": [
        "df['video_id'].count()"
      ],
      "metadata": {
        "colab": {
          "base_uri": "https://localhost:8080/"
        },
        "id": "_5Y3l0c2fHDX",
        "outputId": "6327e99d-9b95-48cd-a535-5cbcf8bed65c"
      },
      "execution_count": 99,
      "outputs": [
        {
          "output_type": "execute_result",
          "data": {
            "text/plain": [
              "167954"
            ]
          },
          "metadata": {},
          "execution_count": 99
        }
      ]
    },
    {
      "cell_type": "markdown",
      "source": [
        "--------------------------------------------------------------"
      ],
      "metadata": {
        "id": "P9kiL4E4fjA5"
      }
    },
    {
      "cell_type": "markdown",
      "source": [
        "# **데이터 전처리**"
      ],
      "metadata": {
        "id": "UH1kKeDqgrQ0"
      }
    },
    {
      "cell_type": "markdown",
      "source": [
        "**1. 불필요한 데이터 삭제**"
      ],
      "metadata": {
        "id": "SMHMU32LpEqr"
      }
    },
    {
      "cell_type": "code",
      "source": [
        "del_cols = [\n",
        "    'thumbnail_link','comments_disabled','ratings_disabled' , 'description']\n",
        "df = df.drop(del_cols, axis=1)"
      ],
      "metadata": {
        "id": "cuBf0-91pbiy"
      },
      "execution_count": 100,
      "outputs": []
    },
    {
      "cell_type": "markdown",
      "source": [
        "**2. 중복 데이터 갯수 확인 (152개)**"
      ],
      "metadata": {
        "id": "BZTAKmKvvBPX"
      }
    },
    {
      "cell_type": "code",
      "source": [
        "dup = df.duplicated()\n",
        "dup.value_counts()"
      ],
      "metadata": {
        "colab": {
          "base_uri": "https://localhost:8080/"
        },
        "id": "yZDZSwxDrJip",
        "outputId": "cc16872c-adf2-4bd4-ed7e-7e2322801aa2"
      },
      "execution_count": 101,
      "outputs": [
        {
          "output_type": "execute_result",
          "data": {
            "text/plain": [
              "False    167802\n",
              "True        152\n",
              "dtype: int64"
            ]
          },
          "metadata": {},
          "execution_count": 101
        }
      ]
    },
    {
      "cell_type": "markdown",
      "source": [
        "**3.중복 데이터 정리**"
      ],
      "metadata": {
        "id": "uQhXig05vRa1"
      }
    },
    {
      "cell_type": "code",
      "source": [
        "df = df.drop_duplicates(keep='first')"
      ],
      "metadata": {
        "id": "TRYiJwUYvVHh"
      },
      "execution_count": 102,
      "outputs": []
    },
    {
      "cell_type": "markdown",
      "source": [
        "**4. category_id열이 명목 속성, 즉 특정 개체에 코드로 부여된 숫자입니다. 개체를 식별하는 데만 사용됩니다. 숫자로 조작 할 수 없기 때문에 카테고리에 매핑하기 전에 데이터 유형을 할당.**"
      ],
      "metadata": {
        "id": "Ph3fb0JUzf1I"
      }
    },
    {
      "cell_type": "code",
      "source": [
        "df['categoryId'] = df['categoryId'].astype(str)"
      ],
      "metadata": {
        "id": "n7ZbXz25z1KY"
      },
      "execution_count": 103,
      "outputs": []
    },
    {
      "cell_type": "markdown",
      "source": [
        "***그전에, 카테고리를 포함하고 있는 json파일를 먼저 읽어들이기 해줍시다.***"
      ],
      "metadata": {
        "id": "gAjwFFrv0ezS"
      }
    },
    {
      "cell_type": "code",
      "source": [
        "categories_df = pd.read_json('/content/KR_category_id.json')"
      ],
      "metadata": {
        "id": "1cgvv3Fn0UD-"
      },
      "execution_count": 104,
      "outputs": []
    },
    {
      "cell_type": "markdown",
      "source": [
        "***category_ids로 키를 포함하고 범주로 값을 포함하는 딕셔너리를 만들어줍니다.***"
      ],
      "metadata": {
        "id": "8imK3rht03RC"
      }
    },
    {
      "cell_type": "code",
      "source": [
        "id_to_category = {}\n",
        "for category in categories_df['items']:\n",
        "  id_to_category[category['id']] = category['snippet']['title']"
      ],
      "metadata": {
        "id": "El3eOwar1FHZ"
      },
      "execution_count": 105,
      "outputs": []
    },
    {
      "cell_type": "code",
      "source": [
        "df.insert(4, 'category', df['categoryId'].map(id_to_category))"
      ],
      "metadata": {
        "id": "U48IU-Ae1psL"
      },
      "execution_count": 106,
      "outputs": []
    },
    {
      "cell_type": "markdown",
      "source": [
        "--------------------------------------------------------------------------------"
      ],
      "metadata": {
        "id": "n50f7xNThyEZ"
      }
    },
    {
      "cell_type": "markdown",
      "source": [
        "# **의미 있는 데이터들에 대한 시각화**"
      ],
      "metadata": {
        "id": "jpIx6o0Pijq7"
      }
    },
    {
      "cell_type": "markdown",
      "source": [
        "- **편의를 위해 두개의 함수를 작성해줍니다.**"
      ],
      "metadata": {
        "id": "T9rX--M6iyUy"
      }
    },
    {
      "cell_type": "markdown",
      "source": [
        "**colum_stats에 의해 지정된 통계에 대해 가장 많은 수가 있는 동영상/채널/카테고리와 댓글 수, 좋아요 및 싫어요를 print 해줍니다.**"
      ],
      "metadata": {
        "id": "-hCtLkcYjI2F"
      }
    },
    {
      "cell_type": "code",
      "source": [
        "def print_top5(column_of_interest,column_stats):\n",
        "    df2 = df.groupby(column_of_interest)['view_count', 'likes',    'comment_count', 'dislikes'].apply(lambda x: x.astype(int).sum())\n",
        "    return df2.sort_values(by=column_stats, ascending=False).head()\n",
        "def visualize_top5(column_of_interest, column_stats):\n",
        "    most_viewed_df = df.groupby([column_of_interest])[column_stats].sum().reset_index()\n",
        "    sorted_df= most_viewed_df.sort_values(column_stats, ascending=False).iloc[:5]\n",
        "    ax = sorted_df.plot.bar(figsize = (15,15))\n",
        "    # customizes the video titles, for asthetic purposes for the bar chart\n",
        "    labels = []\n",
        "    for item in sorted_df[column_of_interest]:\n",
        "        labels.append(item[:20] + '...')\n",
        "    ax.set_xticklabels(labels, rotation=45, fontsize=12)\n",
        "    plt.show()"
      ],
      "metadata": {
        "id": "2IhGMcnQ2D9E"
      },
      "execution_count": 107,
      "outputs": []
    },
    {
      "cell_type": "markdown",
      "source": [
        "**한국에서 가장많은 조회수를 갖고있는 동영상 top5**"
      ],
      "metadata": {
        "id": "Gf81gbgX3kuj"
      }
    },
    {
      "cell_type": "code",
      "source": [
        "print_top5('title','view_count')"
      ],
      "metadata": {
        "colab": {
          "base_uri": "https://localhost:8080/",
          "height": 294
        },
        "id": "hHWXkN0g2Nvr",
        "outputId": "3eca0b4d-83ef-4c8f-c2bc-62934cad5696"
      },
      "execution_count": 108,
      "outputs": [
        {
          "output_type": "stream",
          "name": "stderr",
          "text": [
            "<ipython-input-107-9dc4d750c50c>:2: FutureWarning: Indexing with multiple keys (implicitly converted to a tuple of keys) will be deprecated, use a list instead.\n",
            "  df2 = df.groupby(column_of_interest)['view_count', 'likes',    'comment_count', 'dislikes'].apply(lambda x: x.astype(int).sum())\n"
          ]
        },
        {
          "output_type": "execute_result",
          "data": {
            "text/plain": [
              "                                               view_count      likes  \\\n",
              "title                                                                  \n",
              "BLACKPINK - ‘Pink Venom’ M/V                   4052943212  228007915   \n",
              "BTS (방탄소년단) 'Butter' Official MV               3168484255  197080009   \n",
              "BTS (방탄소년단) 'Permission to Dance' Official MV  2193542737  169757190   \n",
              "BTS (방탄소년단) 'Dynamite' Official MV             2149517140  155503264   \n",
              "BLACKPINK - ‘Shut Down’ M/V                    1814789627  116002269   \n",
              "\n",
              "                                               comment_count  dislikes  \n",
              "title                                                                   \n",
              "BLACKPINK - ‘Pink Venom’ M/V                        63073918         0  \n",
              "BTS (방탄소년단) 'Butter' Official MV                    83315792   1753880  \n",
              "BTS (방탄소년단) 'Permission to Dance' Official MV       40327779   1387153  \n",
              "BTS (방탄소년단) 'Dynamite' Official MV                  60408938   6533842  \n",
              "BLACKPINK - ‘Shut Down’ M/V                         17144254         0  "
            ],
            "text/html": [
              "\n",
              "  <div id=\"df-d8e9d72c-5362-4b07-b1f2-95f0eba28e15\">\n",
              "    <div class=\"colab-df-container\">\n",
              "      <div>\n",
              "<style scoped>\n",
              "    .dataframe tbody tr th:only-of-type {\n",
              "        vertical-align: middle;\n",
              "    }\n",
              "\n",
              "    .dataframe tbody tr th {\n",
              "        vertical-align: top;\n",
              "    }\n",
              "\n",
              "    .dataframe thead th {\n",
              "        text-align: right;\n",
              "    }\n",
              "</style>\n",
              "<table border=\"1\" class=\"dataframe\">\n",
              "  <thead>\n",
              "    <tr style=\"text-align: right;\">\n",
              "      <th></th>\n",
              "      <th>view_count</th>\n",
              "      <th>likes</th>\n",
              "      <th>comment_count</th>\n",
              "      <th>dislikes</th>\n",
              "    </tr>\n",
              "    <tr>\n",
              "      <th>title</th>\n",
              "      <th></th>\n",
              "      <th></th>\n",
              "      <th></th>\n",
              "      <th></th>\n",
              "    </tr>\n",
              "  </thead>\n",
              "  <tbody>\n",
              "    <tr>\n",
              "      <th>BLACKPINK - ‘Pink Venom’ M/V</th>\n",
              "      <td>4052943212</td>\n",
              "      <td>228007915</td>\n",
              "      <td>63073918</td>\n",
              "      <td>0</td>\n",
              "    </tr>\n",
              "    <tr>\n",
              "      <th>BTS (방탄소년단) 'Butter' Official MV</th>\n",
              "      <td>3168484255</td>\n",
              "      <td>197080009</td>\n",
              "      <td>83315792</td>\n",
              "      <td>1753880</td>\n",
              "    </tr>\n",
              "    <tr>\n",
              "      <th>BTS (방탄소년단) 'Permission to Dance' Official MV</th>\n",
              "      <td>2193542737</td>\n",
              "      <td>169757190</td>\n",
              "      <td>40327779</td>\n",
              "      <td>1387153</td>\n",
              "    </tr>\n",
              "    <tr>\n",
              "      <th>BTS (방탄소년단) 'Dynamite' Official MV</th>\n",
              "      <td>2149517140</td>\n",
              "      <td>155503264</td>\n",
              "      <td>60408938</td>\n",
              "      <td>6533842</td>\n",
              "    </tr>\n",
              "    <tr>\n",
              "      <th>BLACKPINK - ‘Shut Down’ M/V</th>\n",
              "      <td>1814789627</td>\n",
              "      <td>116002269</td>\n",
              "      <td>17144254</td>\n",
              "      <td>0</td>\n",
              "    </tr>\n",
              "  </tbody>\n",
              "</table>\n",
              "</div>\n",
              "      <button class=\"colab-df-convert\" onclick=\"convertToInteractive('df-d8e9d72c-5362-4b07-b1f2-95f0eba28e15')\"\n",
              "              title=\"Convert this dataframe to an interactive table.\"\n",
              "              style=\"display:none;\">\n",
              "        \n",
              "  <svg xmlns=\"http://www.w3.org/2000/svg\" height=\"24px\"viewBox=\"0 0 24 24\"\n",
              "       width=\"24px\">\n",
              "    <path d=\"M0 0h24v24H0V0z\" fill=\"none\"/>\n",
              "    <path d=\"M18.56 5.44l.94 2.06.94-2.06 2.06-.94-2.06-.94-.94-2.06-.94 2.06-2.06.94zm-11 1L8.5 8.5l.94-2.06 2.06-.94-2.06-.94L8.5 2.5l-.94 2.06-2.06.94zm10 10l.94 2.06.94-2.06 2.06-.94-2.06-.94-.94-2.06-.94 2.06-2.06.94z\"/><path d=\"M17.41 7.96l-1.37-1.37c-.4-.4-.92-.59-1.43-.59-.52 0-1.04.2-1.43.59L10.3 9.45l-7.72 7.72c-.78.78-.78 2.05 0 2.83L4 21.41c.39.39.9.59 1.41.59.51 0 1.02-.2 1.41-.59l7.78-7.78 2.81-2.81c.8-.78.8-2.07 0-2.86zM5.41 20L4 18.59l7.72-7.72 1.47 1.35L5.41 20z\"/>\n",
              "  </svg>\n",
              "      </button>\n",
              "      \n",
              "  <style>\n",
              "    .colab-df-container {\n",
              "      display:flex;\n",
              "      flex-wrap:wrap;\n",
              "      gap: 12px;\n",
              "    }\n",
              "\n",
              "    .colab-df-convert {\n",
              "      background-color: #E8F0FE;\n",
              "      border: none;\n",
              "      border-radius: 50%;\n",
              "      cursor: pointer;\n",
              "      display: none;\n",
              "      fill: #1967D2;\n",
              "      height: 32px;\n",
              "      padding: 0 0 0 0;\n",
              "      width: 32px;\n",
              "    }\n",
              "\n",
              "    .colab-df-convert:hover {\n",
              "      background-color: #E2EBFA;\n",
              "      box-shadow: 0px 1px 2px rgba(60, 64, 67, 0.3), 0px 1px 3px 1px rgba(60, 64, 67, 0.15);\n",
              "      fill: #174EA6;\n",
              "    }\n",
              "\n",
              "    [theme=dark] .colab-df-convert {\n",
              "      background-color: #3B4455;\n",
              "      fill: #D2E3FC;\n",
              "    }\n",
              "\n",
              "    [theme=dark] .colab-df-convert:hover {\n",
              "      background-color: #434B5C;\n",
              "      box-shadow: 0px 1px 3px 1px rgba(0, 0, 0, 0.15);\n",
              "      filter: drop-shadow(0px 1px 2px rgba(0, 0, 0, 0.3));\n",
              "      fill: #FFFFFF;\n",
              "    }\n",
              "  </style>\n",
              "\n",
              "      <script>\n",
              "        const buttonEl =\n",
              "          document.querySelector('#df-d8e9d72c-5362-4b07-b1f2-95f0eba28e15 button.colab-df-convert');\n",
              "        buttonEl.style.display =\n",
              "          google.colab.kernel.accessAllowed ? 'block' : 'none';\n",
              "\n",
              "        async function convertToInteractive(key) {\n",
              "          const element = document.querySelector('#df-d8e9d72c-5362-4b07-b1f2-95f0eba28e15');\n",
              "          const dataTable =\n",
              "            await google.colab.kernel.invokeFunction('convertToInteractive',\n",
              "                                                     [key], {});\n",
              "          if (!dataTable) return;\n",
              "\n",
              "          const docLinkHtml = 'Like what you see? Visit the ' +\n",
              "            '<a target=\"_blank\" href=https://colab.research.google.com/notebooks/data_table.ipynb>data table notebook</a>'\n",
              "            + ' to learn more about interactive tables.';\n",
              "          element.innerHTML = '';\n",
              "          dataTable['output_type'] = 'display_data';\n",
              "          await google.colab.output.renderOutput(dataTable, element);\n",
              "          const docLink = document.createElement('div');\n",
              "          docLink.innerHTML = docLinkHtml;\n",
              "          element.appendChild(docLink);\n",
              "        }\n",
              "      </script>\n",
              "    </div>\n",
              "  </div>\n",
              "  "
            ]
          },
          "metadata": {},
          "execution_count": 108
        }
      ]
    },
    {
      "cell_type": "markdown",
      "source": [
        "**한국에서 가장 좋아요수가 많은 동영상 top5**"
      ],
      "metadata": {
        "id": "hBKi0Goa3rcL"
      }
    },
    {
      "cell_type": "code",
      "source": [
        "print_top5('title', 'likes')"
      ],
      "metadata": {
        "colab": {
          "base_uri": "https://localhost:8080/",
          "height": 294
        },
        "id": "Cg2b0ryl3vtS",
        "outputId": "d7ca2c94-54ec-486c-e26f-f6b4108775a4"
      },
      "execution_count": 109,
      "outputs": [
        {
          "output_type": "stream",
          "name": "stderr",
          "text": [
            "<ipython-input-107-9dc4d750c50c>:2: FutureWarning: Indexing with multiple keys (implicitly converted to a tuple of keys) will be deprecated, use a list instead.\n",
            "  df2 = df.groupby(column_of_interest)['view_count', 'likes',    'comment_count', 'dislikes'].apply(lambda x: x.astype(int).sum())\n"
          ]
        },
        {
          "output_type": "execute_result",
          "data": {
            "text/plain": [
              "                                               view_count      likes  \\\n",
              "title                                                                  \n",
              "BLACKPINK - ‘Pink Venom’ M/V                   4052943212  228007915   \n",
              "BTS (방탄소년단) 'Butter' Official MV               3168484255  197080009   \n",
              "BTS (방탄소년단) 'Permission to Dance' Official MV  2193542737  169757190   \n",
              "BTS (방탄소년단) 'Dynamite' Official MV             2149517140  155503264   \n",
              "BLACKPINK - ‘Shut Down’ M/V                    1814789627  116002269   \n",
              "\n",
              "                                               comment_count  dislikes  \n",
              "title                                                                   \n",
              "BLACKPINK - ‘Pink Venom’ M/V                        63073918         0  \n",
              "BTS (방탄소년단) 'Butter' Official MV                    83315792   1753880  \n",
              "BTS (방탄소년단) 'Permission to Dance' Official MV       40327779   1387153  \n",
              "BTS (방탄소년단) 'Dynamite' Official MV                  60408938   6533842  \n",
              "BLACKPINK - ‘Shut Down’ M/V                         17144254         0  "
            ],
            "text/html": [
              "\n",
              "  <div id=\"df-1d6ff208-54cf-44a8-a905-e9f7ddfec1c0\">\n",
              "    <div class=\"colab-df-container\">\n",
              "      <div>\n",
              "<style scoped>\n",
              "    .dataframe tbody tr th:only-of-type {\n",
              "        vertical-align: middle;\n",
              "    }\n",
              "\n",
              "    .dataframe tbody tr th {\n",
              "        vertical-align: top;\n",
              "    }\n",
              "\n",
              "    .dataframe thead th {\n",
              "        text-align: right;\n",
              "    }\n",
              "</style>\n",
              "<table border=\"1\" class=\"dataframe\">\n",
              "  <thead>\n",
              "    <tr style=\"text-align: right;\">\n",
              "      <th></th>\n",
              "      <th>view_count</th>\n",
              "      <th>likes</th>\n",
              "      <th>comment_count</th>\n",
              "      <th>dislikes</th>\n",
              "    </tr>\n",
              "    <tr>\n",
              "      <th>title</th>\n",
              "      <th></th>\n",
              "      <th></th>\n",
              "      <th></th>\n",
              "      <th></th>\n",
              "    </tr>\n",
              "  </thead>\n",
              "  <tbody>\n",
              "    <tr>\n",
              "      <th>BLACKPINK - ‘Pink Venom’ M/V</th>\n",
              "      <td>4052943212</td>\n",
              "      <td>228007915</td>\n",
              "      <td>63073918</td>\n",
              "      <td>0</td>\n",
              "    </tr>\n",
              "    <tr>\n",
              "      <th>BTS (방탄소년단) 'Butter' Official MV</th>\n",
              "      <td>3168484255</td>\n",
              "      <td>197080009</td>\n",
              "      <td>83315792</td>\n",
              "      <td>1753880</td>\n",
              "    </tr>\n",
              "    <tr>\n",
              "      <th>BTS (방탄소년단) 'Permission to Dance' Official MV</th>\n",
              "      <td>2193542737</td>\n",
              "      <td>169757190</td>\n",
              "      <td>40327779</td>\n",
              "      <td>1387153</td>\n",
              "    </tr>\n",
              "    <tr>\n",
              "      <th>BTS (방탄소년단) 'Dynamite' Official MV</th>\n",
              "      <td>2149517140</td>\n",
              "      <td>155503264</td>\n",
              "      <td>60408938</td>\n",
              "      <td>6533842</td>\n",
              "    </tr>\n",
              "    <tr>\n",
              "      <th>BLACKPINK - ‘Shut Down’ M/V</th>\n",
              "      <td>1814789627</td>\n",
              "      <td>116002269</td>\n",
              "      <td>17144254</td>\n",
              "      <td>0</td>\n",
              "    </tr>\n",
              "  </tbody>\n",
              "</table>\n",
              "</div>\n",
              "      <button class=\"colab-df-convert\" onclick=\"convertToInteractive('df-1d6ff208-54cf-44a8-a905-e9f7ddfec1c0')\"\n",
              "              title=\"Convert this dataframe to an interactive table.\"\n",
              "              style=\"display:none;\">\n",
              "        \n",
              "  <svg xmlns=\"http://www.w3.org/2000/svg\" height=\"24px\"viewBox=\"0 0 24 24\"\n",
              "       width=\"24px\">\n",
              "    <path d=\"M0 0h24v24H0V0z\" fill=\"none\"/>\n",
              "    <path d=\"M18.56 5.44l.94 2.06.94-2.06 2.06-.94-2.06-.94-.94-2.06-.94 2.06-2.06.94zm-11 1L8.5 8.5l.94-2.06 2.06-.94-2.06-.94L8.5 2.5l-.94 2.06-2.06.94zm10 10l.94 2.06.94-2.06 2.06-.94-2.06-.94-.94-2.06-.94 2.06-2.06.94z\"/><path d=\"M17.41 7.96l-1.37-1.37c-.4-.4-.92-.59-1.43-.59-.52 0-1.04.2-1.43.59L10.3 9.45l-7.72 7.72c-.78.78-.78 2.05 0 2.83L4 21.41c.39.39.9.59 1.41.59.51 0 1.02-.2 1.41-.59l7.78-7.78 2.81-2.81c.8-.78.8-2.07 0-2.86zM5.41 20L4 18.59l7.72-7.72 1.47 1.35L5.41 20z\"/>\n",
              "  </svg>\n",
              "      </button>\n",
              "      \n",
              "  <style>\n",
              "    .colab-df-container {\n",
              "      display:flex;\n",
              "      flex-wrap:wrap;\n",
              "      gap: 12px;\n",
              "    }\n",
              "\n",
              "    .colab-df-convert {\n",
              "      background-color: #E8F0FE;\n",
              "      border: none;\n",
              "      border-radius: 50%;\n",
              "      cursor: pointer;\n",
              "      display: none;\n",
              "      fill: #1967D2;\n",
              "      height: 32px;\n",
              "      padding: 0 0 0 0;\n",
              "      width: 32px;\n",
              "    }\n",
              "\n",
              "    .colab-df-convert:hover {\n",
              "      background-color: #E2EBFA;\n",
              "      box-shadow: 0px 1px 2px rgba(60, 64, 67, 0.3), 0px 1px 3px 1px rgba(60, 64, 67, 0.15);\n",
              "      fill: #174EA6;\n",
              "    }\n",
              "\n",
              "    [theme=dark] .colab-df-convert {\n",
              "      background-color: #3B4455;\n",
              "      fill: #D2E3FC;\n",
              "    }\n",
              "\n",
              "    [theme=dark] .colab-df-convert:hover {\n",
              "      background-color: #434B5C;\n",
              "      box-shadow: 0px 1px 3px 1px rgba(0, 0, 0, 0.15);\n",
              "      filter: drop-shadow(0px 1px 2px rgba(0, 0, 0, 0.3));\n",
              "      fill: #FFFFFF;\n",
              "    }\n",
              "  </style>\n",
              "\n",
              "      <script>\n",
              "        const buttonEl =\n",
              "          document.querySelector('#df-1d6ff208-54cf-44a8-a905-e9f7ddfec1c0 button.colab-df-convert');\n",
              "        buttonEl.style.display =\n",
              "          google.colab.kernel.accessAllowed ? 'block' : 'none';\n",
              "\n",
              "        async function convertToInteractive(key) {\n",
              "          const element = document.querySelector('#df-1d6ff208-54cf-44a8-a905-e9f7ddfec1c0');\n",
              "          const dataTable =\n",
              "            await google.colab.kernel.invokeFunction('convertToInteractive',\n",
              "                                                     [key], {});\n",
              "          if (!dataTable) return;\n",
              "\n",
              "          const docLinkHtml = 'Like what you see? Visit the ' +\n",
              "            '<a target=\"_blank\" href=https://colab.research.google.com/notebooks/data_table.ipynb>data table notebook</a>'\n",
              "            + ' to learn more about interactive tables.';\n",
              "          element.innerHTML = '';\n",
              "          dataTable['output_type'] = 'display_data';\n",
              "          await google.colab.output.renderOutput(dataTable, element);\n",
              "          const docLink = document.createElement('div');\n",
              "          docLink.innerHTML = docLinkHtml;\n",
              "          element.appendChild(docLink);\n",
              "        }\n",
              "      </script>\n",
              "    </div>\n",
              "  </div>\n",
              "  "
            ]
          },
          "metadata": {},
          "execution_count": 109
        }
      ]
    },
    {
      "cell_type": "markdown",
      "source": [
        "**한국에서 가장 댓글이 많은 동영상 top5**"
      ],
      "metadata": {
        "id": "M7tFcMcr39K_"
      }
    },
    {
      "cell_type": "code",
      "source": [
        "print_top5('title' , 'comment_count')"
      ],
      "metadata": {
        "colab": {
          "base_uri": "https://localhost:8080/",
          "height": 294
        },
        "id": "6dgOaX-24AMg",
        "outputId": "b79ab5d9-2884-4ba1-9c3b-c84e4ca743fd"
      },
      "execution_count": 110,
      "outputs": [
        {
          "output_type": "stream",
          "name": "stderr",
          "text": [
            "<ipython-input-107-9dc4d750c50c>:2: FutureWarning: Indexing with multiple keys (implicitly converted to a tuple of keys) will be deprecated, use a list instead.\n",
            "  df2 = df.groupby(column_of_interest)['view_count', 'likes',    'comment_count', 'dislikes'].apply(lambda x: x.astype(int).sum())\n"
          ]
        },
        {
          "output_type": "execute_result",
          "data": {
            "text/plain": [
              "                                        view_count      likes  comment_count  \\\n",
              "title                                                                          \n",
              "BTS (방탄소년단) 'Butter' Official MV        3168484255  197080009       83315792   \n",
              "BLACKPINK - ‘Pink Venom’ M/V            4052943212  228007915       63073918   \n",
              "BTS (방탄소년단) 'Dynamite' Official MV      2149517140  155503264       60408938   \n",
              "EXO 엑소 'Don't fight the feeling' MV      976035992   75993396       53780532   \n",
              "BTS (방탄소년단) 'Life Goes On' Official MV  1423017135  113451853       42658635   \n",
              "\n",
              "                                        dislikes  \n",
              "title                                             \n",
              "BTS (방탄소년단) 'Butter' Official MV         1753880  \n",
              "BLACKPINK - ‘Pink Venom’ M/V                   0  \n",
              "BTS (방탄소년단) 'Dynamite' Official MV       6533842  \n",
              "EXO 엑소 'Don't fight the feeling' MV       685178  \n",
              "BTS (방탄소년단) 'Life Goes On' Official MV   1101495  "
            ],
            "text/html": [
              "\n",
              "  <div id=\"df-5fb05765-3ae0-413e-b3fe-20d81038a9db\">\n",
              "    <div class=\"colab-df-container\">\n",
              "      <div>\n",
              "<style scoped>\n",
              "    .dataframe tbody tr th:only-of-type {\n",
              "        vertical-align: middle;\n",
              "    }\n",
              "\n",
              "    .dataframe tbody tr th {\n",
              "        vertical-align: top;\n",
              "    }\n",
              "\n",
              "    .dataframe thead th {\n",
              "        text-align: right;\n",
              "    }\n",
              "</style>\n",
              "<table border=\"1\" class=\"dataframe\">\n",
              "  <thead>\n",
              "    <tr style=\"text-align: right;\">\n",
              "      <th></th>\n",
              "      <th>view_count</th>\n",
              "      <th>likes</th>\n",
              "      <th>comment_count</th>\n",
              "      <th>dislikes</th>\n",
              "    </tr>\n",
              "    <tr>\n",
              "      <th>title</th>\n",
              "      <th></th>\n",
              "      <th></th>\n",
              "      <th></th>\n",
              "      <th></th>\n",
              "    </tr>\n",
              "  </thead>\n",
              "  <tbody>\n",
              "    <tr>\n",
              "      <th>BTS (방탄소년단) 'Butter' Official MV</th>\n",
              "      <td>3168484255</td>\n",
              "      <td>197080009</td>\n",
              "      <td>83315792</td>\n",
              "      <td>1753880</td>\n",
              "    </tr>\n",
              "    <tr>\n",
              "      <th>BLACKPINK - ‘Pink Venom’ M/V</th>\n",
              "      <td>4052943212</td>\n",
              "      <td>228007915</td>\n",
              "      <td>63073918</td>\n",
              "      <td>0</td>\n",
              "    </tr>\n",
              "    <tr>\n",
              "      <th>BTS (방탄소년단) 'Dynamite' Official MV</th>\n",
              "      <td>2149517140</td>\n",
              "      <td>155503264</td>\n",
              "      <td>60408938</td>\n",
              "      <td>6533842</td>\n",
              "    </tr>\n",
              "    <tr>\n",
              "      <th>EXO 엑소 'Don't fight the feeling' MV</th>\n",
              "      <td>976035992</td>\n",
              "      <td>75993396</td>\n",
              "      <td>53780532</td>\n",
              "      <td>685178</td>\n",
              "    </tr>\n",
              "    <tr>\n",
              "      <th>BTS (방탄소년단) 'Life Goes On' Official MV</th>\n",
              "      <td>1423017135</td>\n",
              "      <td>113451853</td>\n",
              "      <td>42658635</td>\n",
              "      <td>1101495</td>\n",
              "    </tr>\n",
              "  </tbody>\n",
              "</table>\n",
              "</div>\n",
              "      <button class=\"colab-df-convert\" onclick=\"convertToInteractive('df-5fb05765-3ae0-413e-b3fe-20d81038a9db')\"\n",
              "              title=\"Convert this dataframe to an interactive table.\"\n",
              "              style=\"display:none;\">\n",
              "        \n",
              "  <svg xmlns=\"http://www.w3.org/2000/svg\" height=\"24px\"viewBox=\"0 0 24 24\"\n",
              "       width=\"24px\">\n",
              "    <path d=\"M0 0h24v24H0V0z\" fill=\"none\"/>\n",
              "    <path d=\"M18.56 5.44l.94 2.06.94-2.06 2.06-.94-2.06-.94-.94-2.06-.94 2.06-2.06.94zm-11 1L8.5 8.5l.94-2.06 2.06-.94-2.06-.94L8.5 2.5l-.94 2.06-2.06.94zm10 10l.94 2.06.94-2.06 2.06-.94-2.06-.94-.94-2.06-.94 2.06-2.06.94z\"/><path d=\"M17.41 7.96l-1.37-1.37c-.4-.4-.92-.59-1.43-.59-.52 0-1.04.2-1.43.59L10.3 9.45l-7.72 7.72c-.78.78-.78 2.05 0 2.83L4 21.41c.39.39.9.59 1.41.59.51 0 1.02-.2 1.41-.59l7.78-7.78 2.81-2.81c.8-.78.8-2.07 0-2.86zM5.41 20L4 18.59l7.72-7.72 1.47 1.35L5.41 20z\"/>\n",
              "  </svg>\n",
              "      </button>\n",
              "      \n",
              "  <style>\n",
              "    .colab-df-container {\n",
              "      display:flex;\n",
              "      flex-wrap:wrap;\n",
              "      gap: 12px;\n",
              "    }\n",
              "\n",
              "    .colab-df-convert {\n",
              "      background-color: #E8F0FE;\n",
              "      border: none;\n",
              "      border-radius: 50%;\n",
              "      cursor: pointer;\n",
              "      display: none;\n",
              "      fill: #1967D2;\n",
              "      height: 32px;\n",
              "      padding: 0 0 0 0;\n",
              "      width: 32px;\n",
              "    }\n",
              "\n",
              "    .colab-df-convert:hover {\n",
              "      background-color: #E2EBFA;\n",
              "      box-shadow: 0px 1px 2px rgba(60, 64, 67, 0.3), 0px 1px 3px 1px rgba(60, 64, 67, 0.15);\n",
              "      fill: #174EA6;\n",
              "    }\n",
              "\n",
              "    [theme=dark] .colab-df-convert {\n",
              "      background-color: #3B4455;\n",
              "      fill: #D2E3FC;\n",
              "    }\n",
              "\n",
              "    [theme=dark] .colab-df-convert:hover {\n",
              "      background-color: #434B5C;\n",
              "      box-shadow: 0px 1px 3px 1px rgba(0, 0, 0, 0.15);\n",
              "      filter: drop-shadow(0px 1px 2px rgba(0, 0, 0, 0.3));\n",
              "      fill: #FFFFFF;\n",
              "    }\n",
              "  </style>\n",
              "\n",
              "      <script>\n",
              "        const buttonEl =\n",
              "          document.querySelector('#df-5fb05765-3ae0-413e-b3fe-20d81038a9db button.colab-df-convert');\n",
              "        buttonEl.style.display =\n",
              "          google.colab.kernel.accessAllowed ? 'block' : 'none';\n",
              "\n",
              "        async function convertToInteractive(key) {\n",
              "          const element = document.querySelector('#df-5fb05765-3ae0-413e-b3fe-20d81038a9db');\n",
              "          const dataTable =\n",
              "            await google.colab.kernel.invokeFunction('convertToInteractive',\n",
              "                                                     [key], {});\n",
              "          if (!dataTable) return;\n",
              "\n",
              "          const docLinkHtml = 'Like what you see? Visit the ' +\n",
              "            '<a target=\"_blank\" href=https://colab.research.google.com/notebooks/data_table.ipynb>data table notebook</a>'\n",
              "            + ' to learn more about interactive tables.';\n",
              "          element.innerHTML = '';\n",
              "          dataTable['output_type'] = 'display_data';\n",
              "          await google.colab.output.renderOutput(dataTable, element);\n",
              "          const docLink = document.createElement('div');\n",
              "          docLink.innerHTML = docLinkHtml;\n",
              "          element.appendChild(docLink);\n",
              "        }\n",
              "      </script>\n",
              "    </div>\n",
              "  </div>\n",
              "  "
            ]
          },
          "metadata": {},
          "execution_count": 110
        }
      ]
    },
    {
      "cell_type": "markdown",
      "source": [
        "**한국에서 싫어요가 가장 많은 동영상 top5**"
      ],
      "metadata": {
        "id": "ePikbY-X4Lpv"
      }
    },
    {
      "cell_type": "code",
      "source": [
        "print_top5('title', 'dislikes')"
      ],
      "metadata": {
        "colab": {
          "base_uri": "https://localhost:8080/",
          "height": 294
        },
        "id": "Rx71X-tq4PtZ",
        "outputId": "3137ab3c-a5e6-41a9-8d7b-5350a7443d35"
      },
      "execution_count": 111,
      "outputs": [
        {
          "output_type": "stream",
          "name": "stderr",
          "text": [
            "<ipython-input-107-9dc4d750c50c>:2: FutureWarning: Indexing with multiple keys (implicitly converted to a tuple of keys) will be deprecated, use a list instead.\n",
            "  df2 = df.groupby(column_of_interest)['view_count', 'likes',    'comment_count', 'dislikes'].apply(lambda x: x.astype(int).sum())\n"
          ]
        },
        {
          "output_type": "execute_result",
          "data": {
            "text/plain": [
              "                                                 view_count      likes  \\\n",
              "title                                                                    \n",
              "BLACKPINK - 'Ice Cream (with Selena Gomez)' M/V  1233083623   91801084   \n",
              "BTS (방탄소년단) 'Dynamite' Official MV               2149517140  155503264   \n",
              "BTS (방탄소년단) 'Butter' Official MV                 3168484255  197080009   \n",
              "BTS (방탄소년단) 'Permission to Dance' Official MV    2193542737  169757190   \n",
              "aespa 에스파 'Savage' MV                            1046656287   27014497   \n",
              "\n",
              "                                                 comment_count  dislikes  \n",
              "title                                                                     \n",
              "BLACKPINK - 'Ice Cream (with Selena Gomez)' M/V       23191612   6739729  \n",
              "BTS (방탄소년단) 'Dynamite' Official MV                    60408938   6533842  \n",
              "BTS (방탄소년단) 'Butter' Official MV                      83315792   1753880  \n",
              "BTS (방탄소년단) 'Permission to Dance' Official MV         40327779   1387153  \n",
              "aespa 에스파 'Savage' MV                                  3299866   1292648  "
            ],
            "text/html": [
              "\n",
              "  <div id=\"df-114195bc-ce89-42c8-8680-946dd366610a\">\n",
              "    <div class=\"colab-df-container\">\n",
              "      <div>\n",
              "<style scoped>\n",
              "    .dataframe tbody tr th:only-of-type {\n",
              "        vertical-align: middle;\n",
              "    }\n",
              "\n",
              "    .dataframe tbody tr th {\n",
              "        vertical-align: top;\n",
              "    }\n",
              "\n",
              "    .dataframe thead th {\n",
              "        text-align: right;\n",
              "    }\n",
              "</style>\n",
              "<table border=\"1\" class=\"dataframe\">\n",
              "  <thead>\n",
              "    <tr style=\"text-align: right;\">\n",
              "      <th></th>\n",
              "      <th>view_count</th>\n",
              "      <th>likes</th>\n",
              "      <th>comment_count</th>\n",
              "      <th>dislikes</th>\n",
              "    </tr>\n",
              "    <tr>\n",
              "      <th>title</th>\n",
              "      <th></th>\n",
              "      <th></th>\n",
              "      <th></th>\n",
              "      <th></th>\n",
              "    </tr>\n",
              "  </thead>\n",
              "  <tbody>\n",
              "    <tr>\n",
              "      <th>BLACKPINK - 'Ice Cream (with Selena Gomez)' M/V</th>\n",
              "      <td>1233083623</td>\n",
              "      <td>91801084</td>\n",
              "      <td>23191612</td>\n",
              "      <td>6739729</td>\n",
              "    </tr>\n",
              "    <tr>\n",
              "      <th>BTS (방탄소년단) 'Dynamite' Official MV</th>\n",
              "      <td>2149517140</td>\n",
              "      <td>155503264</td>\n",
              "      <td>60408938</td>\n",
              "      <td>6533842</td>\n",
              "    </tr>\n",
              "    <tr>\n",
              "      <th>BTS (방탄소년단) 'Butter' Official MV</th>\n",
              "      <td>3168484255</td>\n",
              "      <td>197080009</td>\n",
              "      <td>83315792</td>\n",
              "      <td>1753880</td>\n",
              "    </tr>\n",
              "    <tr>\n",
              "      <th>BTS (방탄소년단) 'Permission to Dance' Official MV</th>\n",
              "      <td>2193542737</td>\n",
              "      <td>169757190</td>\n",
              "      <td>40327779</td>\n",
              "      <td>1387153</td>\n",
              "    </tr>\n",
              "    <tr>\n",
              "      <th>aespa 에스파 'Savage' MV</th>\n",
              "      <td>1046656287</td>\n",
              "      <td>27014497</td>\n",
              "      <td>3299866</td>\n",
              "      <td>1292648</td>\n",
              "    </tr>\n",
              "  </tbody>\n",
              "</table>\n",
              "</div>\n",
              "      <button class=\"colab-df-convert\" onclick=\"convertToInteractive('df-114195bc-ce89-42c8-8680-946dd366610a')\"\n",
              "              title=\"Convert this dataframe to an interactive table.\"\n",
              "              style=\"display:none;\">\n",
              "        \n",
              "  <svg xmlns=\"http://www.w3.org/2000/svg\" height=\"24px\"viewBox=\"0 0 24 24\"\n",
              "       width=\"24px\">\n",
              "    <path d=\"M0 0h24v24H0V0z\" fill=\"none\"/>\n",
              "    <path d=\"M18.56 5.44l.94 2.06.94-2.06 2.06-.94-2.06-.94-.94-2.06-.94 2.06-2.06.94zm-11 1L8.5 8.5l.94-2.06 2.06-.94-2.06-.94L8.5 2.5l-.94 2.06-2.06.94zm10 10l.94 2.06.94-2.06 2.06-.94-2.06-.94-.94-2.06-.94 2.06-2.06.94z\"/><path d=\"M17.41 7.96l-1.37-1.37c-.4-.4-.92-.59-1.43-.59-.52 0-1.04.2-1.43.59L10.3 9.45l-7.72 7.72c-.78.78-.78 2.05 0 2.83L4 21.41c.39.39.9.59 1.41.59.51 0 1.02-.2 1.41-.59l7.78-7.78 2.81-2.81c.8-.78.8-2.07 0-2.86zM5.41 20L4 18.59l7.72-7.72 1.47 1.35L5.41 20z\"/>\n",
              "  </svg>\n",
              "      </button>\n",
              "      \n",
              "  <style>\n",
              "    .colab-df-container {\n",
              "      display:flex;\n",
              "      flex-wrap:wrap;\n",
              "      gap: 12px;\n",
              "    }\n",
              "\n",
              "    .colab-df-convert {\n",
              "      background-color: #E8F0FE;\n",
              "      border: none;\n",
              "      border-radius: 50%;\n",
              "      cursor: pointer;\n",
              "      display: none;\n",
              "      fill: #1967D2;\n",
              "      height: 32px;\n",
              "      padding: 0 0 0 0;\n",
              "      width: 32px;\n",
              "    }\n",
              "\n",
              "    .colab-df-convert:hover {\n",
              "      background-color: #E2EBFA;\n",
              "      box-shadow: 0px 1px 2px rgba(60, 64, 67, 0.3), 0px 1px 3px 1px rgba(60, 64, 67, 0.15);\n",
              "      fill: #174EA6;\n",
              "    }\n",
              "\n",
              "    [theme=dark] .colab-df-convert {\n",
              "      background-color: #3B4455;\n",
              "      fill: #D2E3FC;\n",
              "    }\n",
              "\n",
              "    [theme=dark] .colab-df-convert:hover {\n",
              "      background-color: #434B5C;\n",
              "      box-shadow: 0px 1px 3px 1px rgba(0, 0, 0, 0.15);\n",
              "      filter: drop-shadow(0px 1px 2px rgba(0, 0, 0, 0.3));\n",
              "      fill: #FFFFFF;\n",
              "    }\n",
              "  </style>\n",
              "\n",
              "      <script>\n",
              "        const buttonEl =\n",
              "          document.querySelector('#df-114195bc-ce89-42c8-8680-946dd366610a button.colab-df-convert');\n",
              "        buttonEl.style.display =\n",
              "          google.colab.kernel.accessAllowed ? 'block' : 'none';\n",
              "\n",
              "        async function convertToInteractive(key) {\n",
              "          const element = document.querySelector('#df-114195bc-ce89-42c8-8680-946dd366610a');\n",
              "          const dataTable =\n",
              "            await google.colab.kernel.invokeFunction('convertToInteractive',\n",
              "                                                     [key], {});\n",
              "          if (!dataTable) return;\n",
              "\n",
              "          const docLinkHtml = 'Like what you see? Visit the ' +\n",
              "            '<a target=\"_blank\" href=https://colab.research.google.com/notebooks/data_table.ipynb>data table notebook</a>'\n",
              "            + ' to learn more about interactive tables.';\n",
              "          element.innerHTML = '';\n",
              "          dataTable['output_type'] = 'display_data';\n",
              "          await google.colab.output.renderOutput(dataTable, element);\n",
              "          const docLink = document.createElement('div');\n",
              "          docLink.innerHTML = docLinkHtml;\n",
              "          element.appendChild(docLink);\n",
              "        }\n",
              "      </script>\n",
              "    </div>\n",
              "  </div>\n",
              "  "
            ]
          },
          "metadata": {},
          "execution_count": 111
        }
      ]
    },
    {
      "cell_type": "markdown",
      "source": [
        "**채널중에 가장 좋아요가 많은 채널 top 5**"
      ],
      "metadata": {
        "id": "7umrrZ-QEG43"
      }
    },
    {
      "cell_type": "code",
      "source": [
        "print_top5('channelTitle', 'view_count')"
      ],
      "metadata": {
        "colab": {
          "base_uri": "https://localhost:8080/",
          "height": 294
        },
        "id": "TBC8D4SgDk5w",
        "outputId": "6fb4187f-42ed-41de-81fe-04e16e9c98cb"
      },
      "execution_count": 112,
      "outputs": [
        {
          "output_type": "stream",
          "name": "stderr",
          "text": [
            "<ipython-input-107-9dc4d750c50c>:2: FutureWarning: Indexing with multiple keys (implicitly converted to a tuple of keys) will be deprecated, use a list instead.\n",
            "  df2 = df.groupby(column_of_interest)['view_count', 'likes',    'comment_count', 'dislikes'].apply(lambda x: x.astype(int).sum())\n"
          ]
        },
        {
          "output_type": "execute_result",
          "data": {
            "text/plain": [
              "                    view_count       likes  comment_count  dislikes\n",
              "channelTitle                                                       \n",
              "BLACKPINK          15404380288  1201554619      197228522  13006282\n",
              "HYBE LABELS        14992923711  1306274304      256394352   5993734\n",
              "SMTOWN             14208011346   675504035      134046846   6845976\n",
              "JYP Entertainment  11345091779   534793300      108497160   5425275\n",
              "BANGTANTV          10043092710  1386069543       60139411   5429810"
            ],
            "text/html": [
              "\n",
              "  <div id=\"df-7f13776e-24fb-47ad-a00f-7643515e7b3d\">\n",
              "    <div class=\"colab-df-container\">\n",
              "      <div>\n",
              "<style scoped>\n",
              "    .dataframe tbody tr th:only-of-type {\n",
              "        vertical-align: middle;\n",
              "    }\n",
              "\n",
              "    .dataframe tbody tr th {\n",
              "        vertical-align: top;\n",
              "    }\n",
              "\n",
              "    .dataframe thead th {\n",
              "        text-align: right;\n",
              "    }\n",
              "</style>\n",
              "<table border=\"1\" class=\"dataframe\">\n",
              "  <thead>\n",
              "    <tr style=\"text-align: right;\">\n",
              "      <th></th>\n",
              "      <th>view_count</th>\n",
              "      <th>likes</th>\n",
              "      <th>comment_count</th>\n",
              "      <th>dislikes</th>\n",
              "    </tr>\n",
              "    <tr>\n",
              "      <th>channelTitle</th>\n",
              "      <th></th>\n",
              "      <th></th>\n",
              "      <th></th>\n",
              "      <th></th>\n",
              "    </tr>\n",
              "  </thead>\n",
              "  <tbody>\n",
              "    <tr>\n",
              "      <th>BLACKPINK</th>\n",
              "      <td>15404380288</td>\n",
              "      <td>1201554619</td>\n",
              "      <td>197228522</td>\n",
              "      <td>13006282</td>\n",
              "    </tr>\n",
              "    <tr>\n",
              "      <th>HYBE LABELS</th>\n",
              "      <td>14992923711</td>\n",
              "      <td>1306274304</td>\n",
              "      <td>256394352</td>\n",
              "      <td>5993734</td>\n",
              "    </tr>\n",
              "    <tr>\n",
              "      <th>SMTOWN</th>\n",
              "      <td>14208011346</td>\n",
              "      <td>675504035</td>\n",
              "      <td>134046846</td>\n",
              "      <td>6845976</td>\n",
              "    </tr>\n",
              "    <tr>\n",
              "      <th>JYP Entertainment</th>\n",
              "      <td>11345091779</td>\n",
              "      <td>534793300</td>\n",
              "      <td>108497160</td>\n",
              "      <td>5425275</td>\n",
              "    </tr>\n",
              "    <tr>\n",
              "      <th>BANGTANTV</th>\n",
              "      <td>10043092710</td>\n",
              "      <td>1386069543</td>\n",
              "      <td>60139411</td>\n",
              "      <td>5429810</td>\n",
              "    </tr>\n",
              "  </tbody>\n",
              "</table>\n",
              "</div>\n",
              "      <button class=\"colab-df-convert\" onclick=\"convertToInteractive('df-7f13776e-24fb-47ad-a00f-7643515e7b3d')\"\n",
              "              title=\"Convert this dataframe to an interactive table.\"\n",
              "              style=\"display:none;\">\n",
              "        \n",
              "  <svg xmlns=\"http://www.w3.org/2000/svg\" height=\"24px\"viewBox=\"0 0 24 24\"\n",
              "       width=\"24px\">\n",
              "    <path d=\"M0 0h24v24H0V0z\" fill=\"none\"/>\n",
              "    <path d=\"M18.56 5.44l.94 2.06.94-2.06 2.06-.94-2.06-.94-.94-2.06-.94 2.06-2.06.94zm-11 1L8.5 8.5l.94-2.06 2.06-.94-2.06-.94L8.5 2.5l-.94 2.06-2.06.94zm10 10l.94 2.06.94-2.06 2.06-.94-2.06-.94-.94-2.06-.94 2.06-2.06.94z\"/><path d=\"M17.41 7.96l-1.37-1.37c-.4-.4-.92-.59-1.43-.59-.52 0-1.04.2-1.43.59L10.3 9.45l-7.72 7.72c-.78.78-.78 2.05 0 2.83L4 21.41c.39.39.9.59 1.41.59.51 0 1.02-.2 1.41-.59l7.78-7.78 2.81-2.81c.8-.78.8-2.07 0-2.86zM5.41 20L4 18.59l7.72-7.72 1.47 1.35L5.41 20z\"/>\n",
              "  </svg>\n",
              "      </button>\n",
              "      \n",
              "  <style>\n",
              "    .colab-df-container {\n",
              "      display:flex;\n",
              "      flex-wrap:wrap;\n",
              "      gap: 12px;\n",
              "    }\n",
              "\n",
              "    .colab-df-convert {\n",
              "      background-color: #E8F0FE;\n",
              "      border: none;\n",
              "      border-radius: 50%;\n",
              "      cursor: pointer;\n",
              "      display: none;\n",
              "      fill: #1967D2;\n",
              "      height: 32px;\n",
              "      padding: 0 0 0 0;\n",
              "      width: 32px;\n",
              "    }\n",
              "\n",
              "    .colab-df-convert:hover {\n",
              "      background-color: #E2EBFA;\n",
              "      box-shadow: 0px 1px 2px rgba(60, 64, 67, 0.3), 0px 1px 3px 1px rgba(60, 64, 67, 0.15);\n",
              "      fill: #174EA6;\n",
              "    }\n",
              "\n",
              "    [theme=dark] .colab-df-convert {\n",
              "      background-color: #3B4455;\n",
              "      fill: #D2E3FC;\n",
              "    }\n",
              "\n",
              "    [theme=dark] .colab-df-convert:hover {\n",
              "      background-color: #434B5C;\n",
              "      box-shadow: 0px 1px 3px 1px rgba(0, 0, 0, 0.15);\n",
              "      filter: drop-shadow(0px 1px 2px rgba(0, 0, 0, 0.3));\n",
              "      fill: #FFFFFF;\n",
              "    }\n",
              "  </style>\n",
              "\n",
              "      <script>\n",
              "        const buttonEl =\n",
              "          document.querySelector('#df-7f13776e-24fb-47ad-a00f-7643515e7b3d button.colab-df-convert');\n",
              "        buttonEl.style.display =\n",
              "          google.colab.kernel.accessAllowed ? 'block' : 'none';\n",
              "\n",
              "        async function convertToInteractive(key) {\n",
              "          const element = document.querySelector('#df-7f13776e-24fb-47ad-a00f-7643515e7b3d');\n",
              "          const dataTable =\n",
              "            await google.colab.kernel.invokeFunction('convertToInteractive',\n",
              "                                                     [key], {});\n",
              "          if (!dataTable) return;\n",
              "\n",
              "          const docLinkHtml = 'Like what you see? Visit the ' +\n",
              "            '<a target=\"_blank\" href=https://colab.research.google.com/notebooks/data_table.ipynb>data table notebook</a>'\n",
              "            + ' to learn more about interactive tables.';\n",
              "          element.innerHTML = '';\n",
              "          dataTable['output_type'] = 'display_data';\n",
              "          await google.colab.output.renderOutput(dataTable, element);\n",
              "          const docLink = document.createElement('div');\n",
              "          docLink.innerHTML = docLinkHtml;\n",
              "          element.appendChild(docLink);\n",
              "        }\n",
              "      </script>\n",
              "    </div>\n",
              "  </div>\n",
              "  "
            ]
          },
          "metadata": {},
          "execution_count": 112
        }
      ]
    },
    {
      "cell_type": "markdown",
      "source": [
        "**댓글중에 가장 댓글 수가 많은 채널 top5**"
      ],
      "metadata": {
        "id": "ZtMohrJwD-cb"
      }
    },
    {
      "cell_type": "code",
      "source": [
        "print_top5('channelTitle', 'comment_count')"
      ],
      "metadata": {
        "colab": {
          "base_uri": "https://localhost:8080/",
          "height": 294
        },
        "id": "wF20dif3D-33",
        "outputId": "87c46ce9-5355-42c5-8a77-403d49f15526"
      },
      "execution_count": 113,
      "outputs": [
        {
          "output_type": "stream",
          "name": "stderr",
          "text": [
            "<ipython-input-107-9dc4d750c50c>:2: FutureWarning: Indexing with multiple keys (implicitly converted to a tuple of keys) will be deprecated, use a list instead.\n",
            "  df2 = df.groupby(column_of_interest)['view_count', 'likes',    'comment_count', 'dislikes'].apply(lambda x: x.astype(int).sum())\n"
          ]
        },
        {
          "output_type": "execute_result",
          "data": {
            "text/plain": [
              "                    view_count       likes  comment_count  dislikes\n",
              "channelTitle                                                       \n",
              "HYBE LABELS        14992923711  1306274304      256394352   5993734\n",
              "BLACKPINK          15404380288  1201554619      197228522  13006282\n",
              "SMTOWN             14208011346   675504035      134046846   6845976\n",
              "Big Hit Labels      5452638996   528354487      128768378  10899262\n",
              "JYP Entertainment  11345091779   534793300      108497160   5425275"
            ],
            "text/html": [
              "\n",
              "  <div id=\"df-11061e79-6fb3-4614-82b5-afa7260b5918\">\n",
              "    <div class=\"colab-df-container\">\n",
              "      <div>\n",
              "<style scoped>\n",
              "    .dataframe tbody tr th:only-of-type {\n",
              "        vertical-align: middle;\n",
              "    }\n",
              "\n",
              "    .dataframe tbody tr th {\n",
              "        vertical-align: top;\n",
              "    }\n",
              "\n",
              "    .dataframe thead th {\n",
              "        text-align: right;\n",
              "    }\n",
              "</style>\n",
              "<table border=\"1\" class=\"dataframe\">\n",
              "  <thead>\n",
              "    <tr style=\"text-align: right;\">\n",
              "      <th></th>\n",
              "      <th>view_count</th>\n",
              "      <th>likes</th>\n",
              "      <th>comment_count</th>\n",
              "      <th>dislikes</th>\n",
              "    </tr>\n",
              "    <tr>\n",
              "      <th>channelTitle</th>\n",
              "      <th></th>\n",
              "      <th></th>\n",
              "      <th></th>\n",
              "      <th></th>\n",
              "    </tr>\n",
              "  </thead>\n",
              "  <tbody>\n",
              "    <tr>\n",
              "      <th>HYBE LABELS</th>\n",
              "      <td>14992923711</td>\n",
              "      <td>1306274304</td>\n",
              "      <td>256394352</td>\n",
              "      <td>5993734</td>\n",
              "    </tr>\n",
              "    <tr>\n",
              "      <th>BLACKPINK</th>\n",
              "      <td>15404380288</td>\n",
              "      <td>1201554619</td>\n",
              "      <td>197228522</td>\n",
              "      <td>13006282</td>\n",
              "    </tr>\n",
              "    <tr>\n",
              "      <th>SMTOWN</th>\n",
              "      <td>14208011346</td>\n",
              "      <td>675504035</td>\n",
              "      <td>134046846</td>\n",
              "      <td>6845976</td>\n",
              "    </tr>\n",
              "    <tr>\n",
              "      <th>Big Hit Labels</th>\n",
              "      <td>5452638996</td>\n",
              "      <td>528354487</td>\n",
              "      <td>128768378</td>\n",
              "      <td>10899262</td>\n",
              "    </tr>\n",
              "    <tr>\n",
              "      <th>JYP Entertainment</th>\n",
              "      <td>11345091779</td>\n",
              "      <td>534793300</td>\n",
              "      <td>108497160</td>\n",
              "      <td>5425275</td>\n",
              "    </tr>\n",
              "  </tbody>\n",
              "</table>\n",
              "</div>\n",
              "      <button class=\"colab-df-convert\" onclick=\"convertToInteractive('df-11061e79-6fb3-4614-82b5-afa7260b5918')\"\n",
              "              title=\"Convert this dataframe to an interactive table.\"\n",
              "              style=\"display:none;\">\n",
              "        \n",
              "  <svg xmlns=\"http://www.w3.org/2000/svg\" height=\"24px\"viewBox=\"0 0 24 24\"\n",
              "       width=\"24px\">\n",
              "    <path d=\"M0 0h24v24H0V0z\" fill=\"none\"/>\n",
              "    <path d=\"M18.56 5.44l.94 2.06.94-2.06 2.06-.94-2.06-.94-.94-2.06-.94 2.06-2.06.94zm-11 1L8.5 8.5l.94-2.06 2.06-.94-2.06-.94L8.5 2.5l-.94 2.06-2.06.94zm10 10l.94 2.06.94-2.06 2.06-.94-2.06-.94-.94-2.06-.94 2.06-2.06.94z\"/><path d=\"M17.41 7.96l-1.37-1.37c-.4-.4-.92-.59-1.43-.59-.52 0-1.04.2-1.43.59L10.3 9.45l-7.72 7.72c-.78.78-.78 2.05 0 2.83L4 21.41c.39.39.9.59 1.41.59.51 0 1.02-.2 1.41-.59l7.78-7.78 2.81-2.81c.8-.78.8-2.07 0-2.86zM5.41 20L4 18.59l7.72-7.72 1.47 1.35L5.41 20z\"/>\n",
              "  </svg>\n",
              "      </button>\n",
              "      \n",
              "  <style>\n",
              "    .colab-df-container {\n",
              "      display:flex;\n",
              "      flex-wrap:wrap;\n",
              "      gap: 12px;\n",
              "    }\n",
              "\n",
              "    .colab-df-convert {\n",
              "      background-color: #E8F0FE;\n",
              "      border: none;\n",
              "      border-radius: 50%;\n",
              "      cursor: pointer;\n",
              "      display: none;\n",
              "      fill: #1967D2;\n",
              "      height: 32px;\n",
              "      padding: 0 0 0 0;\n",
              "      width: 32px;\n",
              "    }\n",
              "\n",
              "    .colab-df-convert:hover {\n",
              "      background-color: #E2EBFA;\n",
              "      box-shadow: 0px 1px 2px rgba(60, 64, 67, 0.3), 0px 1px 3px 1px rgba(60, 64, 67, 0.15);\n",
              "      fill: #174EA6;\n",
              "    }\n",
              "\n",
              "    [theme=dark] .colab-df-convert {\n",
              "      background-color: #3B4455;\n",
              "      fill: #D2E3FC;\n",
              "    }\n",
              "\n",
              "    [theme=dark] .colab-df-convert:hover {\n",
              "      background-color: #434B5C;\n",
              "      box-shadow: 0px 1px 3px 1px rgba(0, 0, 0, 0.15);\n",
              "      filter: drop-shadow(0px 1px 2px rgba(0, 0, 0, 0.3));\n",
              "      fill: #FFFFFF;\n",
              "    }\n",
              "  </style>\n",
              "\n",
              "      <script>\n",
              "        const buttonEl =\n",
              "          document.querySelector('#df-11061e79-6fb3-4614-82b5-afa7260b5918 button.colab-df-convert');\n",
              "        buttonEl.style.display =\n",
              "          google.colab.kernel.accessAllowed ? 'block' : 'none';\n",
              "\n",
              "        async function convertToInteractive(key) {\n",
              "          const element = document.querySelector('#df-11061e79-6fb3-4614-82b5-afa7260b5918');\n",
              "          const dataTable =\n",
              "            await google.colab.kernel.invokeFunction('convertToInteractive',\n",
              "                                                     [key], {});\n",
              "          if (!dataTable) return;\n",
              "\n",
              "          const docLinkHtml = 'Like what you see? Visit the ' +\n",
              "            '<a target=\"_blank\" href=https://colab.research.google.com/notebooks/data_table.ipynb>data table notebook</a>'\n",
              "            + ' to learn more about interactive tables.';\n",
              "          element.innerHTML = '';\n",
              "          dataTable['output_type'] = 'display_data';\n",
              "          await google.colab.output.renderOutput(dataTable, element);\n",
              "          const docLink = document.createElement('div');\n",
              "          docLink.innerHTML = docLinkHtml;\n",
              "          element.appendChild(docLink);\n",
              "        }\n",
              "      </script>\n",
              "    </div>\n",
              "  </div>\n",
              "  "
            ]
          },
          "metadata": {},
          "execution_count": 113
        }
      ]
    },
    {
      "cell_type": "markdown",
      "source": [
        "**싫어요가 가장 많은 채널 top5**"
      ],
      "metadata": {
        "id": "XX-n0ayuEjHK"
      }
    },
    {
      "cell_type": "code",
      "source": [
        "print_top5('channelTitle', 'dislikes')"
      ],
      "metadata": {
        "colab": {
          "base_uri": "https://localhost:8080/",
          "height": 294
        },
        "id": "QX1fpybfEljj",
        "outputId": "0096930e-598e-40a9-9da6-38a33d3e0681"
      },
      "execution_count": 114,
      "outputs": [
        {
          "output_type": "stream",
          "name": "stderr",
          "text": [
            "<ipython-input-107-9dc4d750c50c>:2: FutureWarning: Indexing with multiple keys (implicitly converted to a tuple of keys) will be deprecated, use a list instead.\n",
            "  df2 = df.groupby(column_of_interest)['view_count', 'likes',    'comment_count', 'dislikes'].apply(lambda x: x.astype(int).sum())\n"
          ]
        },
        {
          "output_type": "execute_result",
          "data": {
            "text/plain": [
              "                 view_count       likes  comment_count  dislikes\n",
              "channelTitle                                                    \n",
              "BLACKPINK       15404380288  1201554619      197228522  13006282\n",
              "Big Hit Labels   5452638996   528354487      128768378  10899262\n",
              "SMTOWN          14208011346   675504035      134046846   6845976\n",
              "HYBE LABELS     14992923711  1306274304      256394352   5993734\n",
              "BANGTANTV       10043092710  1386069543       60139411   5429810"
            ],
            "text/html": [
              "\n",
              "  <div id=\"df-30387071-a24d-4872-ac7c-114c836fd1a7\">\n",
              "    <div class=\"colab-df-container\">\n",
              "      <div>\n",
              "<style scoped>\n",
              "    .dataframe tbody tr th:only-of-type {\n",
              "        vertical-align: middle;\n",
              "    }\n",
              "\n",
              "    .dataframe tbody tr th {\n",
              "        vertical-align: top;\n",
              "    }\n",
              "\n",
              "    .dataframe thead th {\n",
              "        text-align: right;\n",
              "    }\n",
              "</style>\n",
              "<table border=\"1\" class=\"dataframe\">\n",
              "  <thead>\n",
              "    <tr style=\"text-align: right;\">\n",
              "      <th></th>\n",
              "      <th>view_count</th>\n",
              "      <th>likes</th>\n",
              "      <th>comment_count</th>\n",
              "      <th>dislikes</th>\n",
              "    </tr>\n",
              "    <tr>\n",
              "      <th>channelTitle</th>\n",
              "      <th></th>\n",
              "      <th></th>\n",
              "      <th></th>\n",
              "      <th></th>\n",
              "    </tr>\n",
              "  </thead>\n",
              "  <tbody>\n",
              "    <tr>\n",
              "      <th>BLACKPINK</th>\n",
              "      <td>15404380288</td>\n",
              "      <td>1201554619</td>\n",
              "      <td>197228522</td>\n",
              "      <td>13006282</td>\n",
              "    </tr>\n",
              "    <tr>\n",
              "      <th>Big Hit Labels</th>\n",
              "      <td>5452638996</td>\n",
              "      <td>528354487</td>\n",
              "      <td>128768378</td>\n",
              "      <td>10899262</td>\n",
              "    </tr>\n",
              "    <tr>\n",
              "      <th>SMTOWN</th>\n",
              "      <td>14208011346</td>\n",
              "      <td>675504035</td>\n",
              "      <td>134046846</td>\n",
              "      <td>6845976</td>\n",
              "    </tr>\n",
              "    <tr>\n",
              "      <th>HYBE LABELS</th>\n",
              "      <td>14992923711</td>\n",
              "      <td>1306274304</td>\n",
              "      <td>256394352</td>\n",
              "      <td>5993734</td>\n",
              "    </tr>\n",
              "    <tr>\n",
              "      <th>BANGTANTV</th>\n",
              "      <td>10043092710</td>\n",
              "      <td>1386069543</td>\n",
              "      <td>60139411</td>\n",
              "      <td>5429810</td>\n",
              "    </tr>\n",
              "  </tbody>\n",
              "</table>\n",
              "</div>\n",
              "      <button class=\"colab-df-convert\" onclick=\"convertToInteractive('df-30387071-a24d-4872-ac7c-114c836fd1a7')\"\n",
              "              title=\"Convert this dataframe to an interactive table.\"\n",
              "              style=\"display:none;\">\n",
              "        \n",
              "  <svg xmlns=\"http://www.w3.org/2000/svg\" height=\"24px\"viewBox=\"0 0 24 24\"\n",
              "       width=\"24px\">\n",
              "    <path d=\"M0 0h24v24H0V0z\" fill=\"none\"/>\n",
              "    <path d=\"M18.56 5.44l.94 2.06.94-2.06 2.06-.94-2.06-.94-.94-2.06-.94 2.06-2.06.94zm-11 1L8.5 8.5l.94-2.06 2.06-.94-2.06-.94L8.5 2.5l-.94 2.06-2.06.94zm10 10l.94 2.06.94-2.06 2.06-.94-2.06-.94-.94-2.06-.94 2.06-2.06.94z\"/><path d=\"M17.41 7.96l-1.37-1.37c-.4-.4-.92-.59-1.43-.59-.52 0-1.04.2-1.43.59L10.3 9.45l-7.72 7.72c-.78.78-.78 2.05 0 2.83L4 21.41c.39.39.9.59 1.41.59.51 0 1.02-.2 1.41-.59l7.78-7.78 2.81-2.81c.8-.78.8-2.07 0-2.86zM5.41 20L4 18.59l7.72-7.72 1.47 1.35L5.41 20z\"/>\n",
              "  </svg>\n",
              "      </button>\n",
              "      \n",
              "  <style>\n",
              "    .colab-df-container {\n",
              "      display:flex;\n",
              "      flex-wrap:wrap;\n",
              "      gap: 12px;\n",
              "    }\n",
              "\n",
              "    .colab-df-convert {\n",
              "      background-color: #E8F0FE;\n",
              "      border: none;\n",
              "      border-radius: 50%;\n",
              "      cursor: pointer;\n",
              "      display: none;\n",
              "      fill: #1967D2;\n",
              "      height: 32px;\n",
              "      padding: 0 0 0 0;\n",
              "      width: 32px;\n",
              "    }\n",
              "\n",
              "    .colab-df-convert:hover {\n",
              "      background-color: #E2EBFA;\n",
              "      box-shadow: 0px 1px 2px rgba(60, 64, 67, 0.3), 0px 1px 3px 1px rgba(60, 64, 67, 0.15);\n",
              "      fill: #174EA6;\n",
              "    }\n",
              "\n",
              "    [theme=dark] .colab-df-convert {\n",
              "      background-color: #3B4455;\n",
              "      fill: #D2E3FC;\n",
              "    }\n",
              "\n",
              "    [theme=dark] .colab-df-convert:hover {\n",
              "      background-color: #434B5C;\n",
              "      box-shadow: 0px 1px 3px 1px rgba(0, 0, 0, 0.15);\n",
              "      filter: drop-shadow(0px 1px 2px rgba(0, 0, 0, 0.3));\n",
              "      fill: #FFFFFF;\n",
              "    }\n",
              "  </style>\n",
              "\n",
              "      <script>\n",
              "        const buttonEl =\n",
              "          document.querySelector('#df-30387071-a24d-4872-ac7c-114c836fd1a7 button.colab-df-convert');\n",
              "        buttonEl.style.display =\n",
              "          google.colab.kernel.accessAllowed ? 'block' : 'none';\n",
              "\n",
              "        async function convertToInteractive(key) {\n",
              "          const element = document.querySelector('#df-30387071-a24d-4872-ac7c-114c836fd1a7');\n",
              "          const dataTable =\n",
              "            await google.colab.kernel.invokeFunction('convertToInteractive',\n",
              "                                                     [key], {});\n",
              "          if (!dataTable) return;\n",
              "\n",
              "          const docLinkHtml = 'Like what you see? Visit the ' +\n",
              "            '<a target=\"_blank\" href=https://colab.research.google.com/notebooks/data_table.ipynb>data table notebook</a>'\n",
              "            + ' to learn more about interactive tables.';\n",
              "          element.innerHTML = '';\n",
              "          dataTable['output_type'] = 'display_data';\n",
              "          await google.colab.output.renderOutput(dataTable, element);\n",
              "          const docLink = document.createElement('div');\n",
              "          docLink.innerHTML = docLinkHtml;\n",
              "          element.appendChild(docLink);\n",
              "        }\n",
              "      </script>\n",
              "    </div>\n",
              "  </div>\n",
              "  "
            ]
          },
          "metadata": {},
          "execution_count": 114
        }
      ]
    },
    {
      "cell_type": "markdown",
      "source": [
        "**가장 트랜딩 영상이 많은 채널 top5**"
      ],
      "metadata": {
        "id": "JWzPLmnuExA-"
      }
    },
    {
      "cell_type": "code",
      "source": [
        "df['channelTitle'].value_counts().head()"
      ],
      "metadata": {
        "colab": {
          "base_uri": "https://localhost:8080/"
        },
        "id": "a8TRrh8eE0qT",
        "outputId": "62f16583-5fe4-4fbb-8512-a8908bc099ce"
      },
      "execution_count": 115,
      "outputs": [
        {
          "output_type": "execute_result",
          "data": {
            "text/plain": [
              "파뿌리          900\n",
              "짤툰           834\n",
              "장삐쭈          823\n",
              "BANGTANTV    801\n",
              "SPOTV        782\n",
              "Name: channelTitle, dtype: int64"
            ]
          },
          "metadata": {},
          "execution_count": 115
        }
      ]
    },
    {
      "cell_type": "markdown",
      "source": [
        "# **카테고리 상세화**"
      ],
      "metadata": {
        "id": "vRJCJyahFAe-"
      }
    },
    {
      "cell_type": "markdown",
      "source": [
        "**좋아요가 가장 많은 카테고리**"
      ],
      "metadata": {
        "id": "zyhB3w8gFbR6"
      }
    },
    {
      "cell_type": "code",
      "source": [
        "print_top5('category','view_count')"
      ],
      "metadata": {
        "colab": {
          "base_uri": "https://localhost:8080/",
          "height": 294
        },
        "id": "psVEUzZdFOv5",
        "outputId": "40f45a5e-8d6f-4616-9303-160a95db356c"
      },
      "execution_count": 116,
      "outputs": [
        {
          "output_type": "stream",
          "name": "stderr",
          "text": [
            "<ipython-input-107-9dc4d750c50c>:2: FutureWarning: Indexing with multiple keys (implicitly converted to a tuple of keys) will be deprecated, use a list instead.\n",
            "  df2 = df.groupby(column_of_interest)['view_count', 'likes',    'comment_count', 'dislikes'].apply(lambda x: x.astype(int).sum())\n"
          ]
        },
        {
          "output_type": "execute_result",
          "data": {
            "text/plain": [
              "                  view_count       likes  comment_count  dislikes\n",
              "category                                                         \n",
              "Music           120272466945  8133643152     1060186389  63011106\n",
              "Entertainment    72137207642  2122274304      178907514  20612149\n",
              "People & Blogs   24844819637   905773471       70615255  10633982\n",
              "Sports           14723713762   257916553       34005199   3547650\n",
              "Comedy           13767484601   420991494       34358322   6858961"
            ],
            "text/html": [
              "\n",
              "  <div id=\"df-b5919fc2-9ba2-4d06-95d1-fb30b4714d6d\">\n",
              "    <div class=\"colab-df-container\">\n",
              "      <div>\n",
              "<style scoped>\n",
              "    .dataframe tbody tr th:only-of-type {\n",
              "        vertical-align: middle;\n",
              "    }\n",
              "\n",
              "    .dataframe tbody tr th {\n",
              "        vertical-align: top;\n",
              "    }\n",
              "\n",
              "    .dataframe thead th {\n",
              "        text-align: right;\n",
              "    }\n",
              "</style>\n",
              "<table border=\"1\" class=\"dataframe\">\n",
              "  <thead>\n",
              "    <tr style=\"text-align: right;\">\n",
              "      <th></th>\n",
              "      <th>view_count</th>\n",
              "      <th>likes</th>\n",
              "      <th>comment_count</th>\n",
              "      <th>dislikes</th>\n",
              "    </tr>\n",
              "    <tr>\n",
              "      <th>category</th>\n",
              "      <th></th>\n",
              "      <th></th>\n",
              "      <th></th>\n",
              "      <th></th>\n",
              "    </tr>\n",
              "  </thead>\n",
              "  <tbody>\n",
              "    <tr>\n",
              "      <th>Music</th>\n",
              "      <td>120272466945</td>\n",
              "      <td>8133643152</td>\n",
              "      <td>1060186389</td>\n",
              "      <td>63011106</td>\n",
              "    </tr>\n",
              "    <tr>\n",
              "      <th>Entertainment</th>\n",
              "      <td>72137207642</td>\n",
              "      <td>2122274304</td>\n",
              "      <td>178907514</td>\n",
              "      <td>20612149</td>\n",
              "    </tr>\n",
              "    <tr>\n",
              "      <th>People &amp; Blogs</th>\n",
              "      <td>24844819637</td>\n",
              "      <td>905773471</td>\n",
              "      <td>70615255</td>\n",
              "      <td>10633982</td>\n",
              "    </tr>\n",
              "    <tr>\n",
              "      <th>Sports</th>\n",
              "      <td>14723713762</td>\n",
              "      <td>257916553</td>\n",
              "      <td>34005199</td>\n",
              "      <td>3547650</td>\n",
              "    </tr>\n",
              "    <tr>\n",
              "      <th>Comedy</th>\n",
              "      <td>13767484601</td>\n",
              "      <td>420991494</td>\n",
              "      <td>34358322</td>\n",
              "      <td>6858961</td>\n",
              "    </tr>\n",
              "  </tbody>\n",
              "</table>\n",
              "</div>\n",
              "      <button class=\"colab-df-convert\" onclick=\"convertToInteractive('df-b5919fc2-9ba2-4d06-95d1-fb30b4714d6d')\"\n",
              "              title=\"Convert this dataframe to an interactive table.\"\n",
              "              style=\"display:none;\">\n",
              "        \n",
              "  <svg xmlns=\"http://www.w3.org/2000/svg\" height=\"24px\"viewBox=\"0 0 24 24\"\n",
              "       width=\"24px\">\n",
              "    <path d=\"M0 0h24v24H0V0z\" fill=\"none\"/>\n",
              "    <path d=\"M18.56 5.44l.94 2.06.94-2.06 2.06-.94-2.06-.94-.94-2.06-.94 2.06-2.06.94zm-11 1L8.5 8.5l.94-2.06 2.06-.94-2.06-.94L8.5 2.5l-.94 2.06-2.06.94zm10 10l.94 2.06.94-2.06 2.06-.94-2.06-.94-.94-2.06-.94 2.06-2.06.94z\"/><path d=\"M17.41 7.96l-1.37-1.37c-.4-.4-.92-.59-1.43-.59-.52 0-1.04.2-1.43.59L10.3 9.45l-7.72 7.72c-.78.78-.78 2.05 0 2.83L4 21.41c.39.39.9.59 1.41.59.51 0 1.02-.2 1.41-.59l7.78-7.78 2.81-2.81c.8-.78.8-2.07 0-2.86zM5.41 20L4 18.59l7.72-7.72 1.47 1.35L5.41 20z\"/>\n",
              "  </svg>\n",
              "      </button>\n",
              "      \n",
              "  <style>\n",
              "    .colab-df-container {\n",
              "      display:flex;\n",
              "      flex-wrap:wrap;\n",
              "      gap: 12px;\n",
              "    }\n",
              "\n",
              "    .colab-df-convert {\n",
              "      background-color: #E8F0FE;\n",
              "      border: none;\n",
              "      border-radius: 50%;\n",
              "      cursor: pointer;\n",
              "      display: none;\n",
              "      fill: #1967D2;\n",
              "      height: 32px;\n",
              "      padding: 0 0 0 0;\n",
              "      width: 32px;\n",
              "    }\n",
              "\n",
              "    .colab-df-convert:hover {\n",
              "      background-color: #E2EBFA;\n",
              "      box-shadow: 0px 1px 2px rgba(60, 64, 67, 0.3), 0px 1px 3px 1px rgba(60, 64, 67, 0.15);\n",
              "      fill: #174EA6;\n",
              "    }\n",
              "\n",
              "    [theme=dark] .colab-df-convert {\n",
              "      background-color: #3B4455;\n",
              "      fill: #D2E3FC;\n",
              "    }\n",
              "\n",
              "    [theme=dark] .colab-df-convert:hover {\n",
              "      background-color: #434B5C;\n",
              "      box-shadow: 0px 1px 3px 1px rgba(0, 0, 0, 0.15);\n",
              "      filter: drop-shadow(0px 1px 2px rgba(0, 0, 0, 0.3));\n",
              "      fill: #FFFFFF;\n",
              "    }\n",
              "  </style>\n",
              "\n",
              "      <script>\n",
              "        const buttonEl =\n",
              "          document.querySelector('#df-b5919fc2-9ba2-4d06-95d1-fb30b4714d6d button.colab-df-convert');\n",
              "        buttonEl.style.display =\n",
              "          google.colab.kernel.accessAllowed ? 'block' : 'none';\n",
              "\n",
              "        async function convertToInteractive(key) {\n",
              "          const element = document.querySelector('#df-b5919fc2-9ba2-4d06-95d1-fb30b4714d6d');\n",
              "          const dataTable =\n",
              "            await google.colab.kernel.invokeFunction('convertToInteractive',\n",
              "                                                     [key], {});\n",
              "          if (!dataTable) return;\n",
              "\n",
              "          const docLinkHtml = 'Like what you see? Visit the ' +\n",
              "            '<a target=\"_blank\" href=https://colab.research.google.com/notebooks/data_table.ipynb>data table notebook</a>'\n",
              "            + ' to learn more about interactive tables.';\n",
              "          element.innerHTML = '';\n",
              "          dataTable['output_type'] = 'display_data';\n",
              "          await google.colab.output.renderOutput(dataTable, element);\n",
              "          const docLink = document.createElement('div');\n",
              "          docLink.innerHTML = docLinkHtml;\n",
              "          element.appendChild(docLink);\n",
              "        }\n",
              "      </script>\n",
              "    </div>\n",
              "  </div>\n",
              "  "
            ]
          },
          "metadata": {},
          "execution_count": 116
        }
      ]
    },
    {
      "cell_type": "markdown",
      "source": [
        "**댓글이 가장 많은 카테고리**"
      ],
      "metadata": {
        "id": "wWwQh8zxFnXx"
      }
    },
    {
      "cell_type": "code",
      "source": [
        "print_top5('category', 'comment_count')"
      ],
      "metadata": {
        "colab": {
          "base_uri": "https://localhost:8080/",
          "height": 294
        },
        "id": "HAwUvMPgFaOb",
        "outputId": "3eaf9ac4-d3a0-4734-9a2b-5e68d893c770"
      },
      "execution_count": 117,
      "outputs": [
        {
          "output_type": "stream",
          "name": "stderr",
          "text": [
            "<ipython-input-107-9dc4d750c50c>:2: FutureWarning: Indexing with multiple keys (implicitly converted to a tuple of keys) will be deprecated, use a list instead.\n",
            "  df2 = df.groupby(column_of_interest)['view_count', 'likes',    'comment_count', 'dislikes'].apply(lambda x: x.astype(int).sum())\n"
          ]
        },
        {
          "output_type": "execute_result",
          "data": {
            "text/plain": [
              "                  view_count       likes  comment_count  dislikes\n",
              "category                                                         \n",
              "Music           120272466945  8133643152     1060186389  63011106\n",
              "Entertainment    72137207642  2122274304      178907514  20612149\n",
              "People & Blogs   24844819637   905773471       70615255  10633982\n",
              "Comedy           13767484601   420991494       34358322   6858961\n",
              "Sports           14723713762   257916553       34005199   3547650"
            ],
            "text/html": [
              "\n",
              "  <div id=\"df-823f59fa-efce-4344-8c46-c73c1a56885c\">\n",
              "    <div class=\"colab-df-container\">\n",
              "      <div>\n",
              "<style scoped>\n",
              "    .dataframe tbody tr th:only-of-type {\n",
              "        vertical-align: middle;\n",
              "    }\n",
              "\n",
              "    .dataframe tbody tr th {\n",
              "        vertical-align: top;\n",
              "    }\n",
              "\n",
              "    .dataframe thead th {\n",
              "        text-align: right;\n",
              "    }\n",
              "</style>\n",
              "<table border=\"1\" class=\"dataframe\">\n",
              "  <thead>\n",
              "    <tr style=\"text-align: right;\">\n",
              "      <th></th>\n",
              "      <th>view_count</th>\n",
              "      <th>likes</th>\n",
              "      <th>comment_count</th>\n",
              "      <th>dislikes</th>\n",
              "    </tr>\n",
              "    <tr>\n",
              "      <th>category</th>\n",
              "      <th></th>\n",
              "      <th></th>\n",
              "      <th></th>\n",
              "      <th></th>\n",
              "    </tr>\n",
              "  </thead>\n",
              "  <tbody>\n",
              "    <tr>\n",
              "      <th>Music</th>\n",
              "      <td>120272466945</td>\n",
              "      <td>8133643152</td>\n",
              "      <td>1060186389</td>\n",
              "      <td>63011106</td>\n",
              "    </tr>\n",
              "    <tr>\n",
              "      <th>Entertainment</th>\n",
              "      <td>72137207642</td>\n",
              "      <td>2122274304</td>\n",
              "      <td>178907514</td>\n",
              "      <td>20612149</td>\n",
              "    </tr>\n",
              "    <tr>\n",
              "      <th>People &amp; Blogs</th>\n",
              "      <td>24844819637</td>\n",
              "      <td>905773471</td>\n",
              "      <td>70615255</td>\n",
              "      <td>10633982</td>\n",
              "    </tr>\n",
              "    <tr>\n",
              "      <th>Comedy</th>\n",
              "      <td>13767484601</td>\n",
              "      <td>420991494</td>\n",
              "      <td>34358322</td>\n",
              "      <td>6858961</td>\n",
              "    </tr>\n",
              "    <tr>\n",
              "      <th>Sports</th>\n",
              "      <td>14723713762</td>\n",
              "      <td>257916553</td>\n",
              "      <td>34005199</td>\n",
              "      <td>3547650</td>\n",
              "    </tr>\n",
              "  </tbody>\n",
              "</table>\n",
              "</div>\n",
              "      <button class=\"colab-df-convert\" onclick=\"convertToInteractive('df-823f59fa-efce-4344-8c46-c73c1a56885c')\"\n",
              "              title=\"Convert this dataframe to an interactive table.\"\n",
              "              style=\"display:none;\">\n",
              "        \n",
              "  <svg xmlns=\"http://www.w3.org/2000/svg\" height=\"24px\"viewBox=\"0 0 24 24\"\n",
              "       width=\"24px\">\n",
              "    <path d=\"M0 0h24v24H0V0z\" fill=\"none\"/>\n",
              "    <path d=\"M18.56 5.44l.94 2.06.94-2.06 2.06-.94-2.06-.94-.94-2.06-.94 2.06-2.06.94zm-11 1L8.5 8.5l.94-2.06 2.06-.94-2.06-.94L8.5 2.5l-.94 2.06-2.06.94zm10 10l.94 2.06.94-2.06 2.06-.94-2.06-.94-.94-2.06-.94 2.06-2.06.94z\"/><path d=\"M17.41 7.96l-1.37-1.37c-.4-.4-.92-.59-1.43-.59-.52 0-1.04.2-1.43.59L10.3 9.45l-7.72 7.72c-.78.78-.78 2.05 0 2.83L4 21.41c.39.39.9.59 1.41.59.51 0 1.02-.2 1.41-.59l7.78-7.78 2.81-2.81c.8-.78.8-2.07 0-2.86zM5.41 20L4 18.59l7.72-7.72 1.47 1.35L5.41 20z\"/>\n",
              "  </svg>\n",
              "      </button>\n",
              "      \n",
              "  <style>\n",
              "    .colab-df-container {\n",
              "      display:flex;\n",
              "      flex-wrap:wrap;\n",
              "      gap: 12px;\n",
              "    }\n",
              "\n",
              "    .colab-df-convert {\n",
              "      background-color: #E8F0FE;\n",
              "      border: none;\n",
              "      border-radius: 50%;\n",
              "      cursor: pointer;\n",
              "      display: none;\n",
              "      fill: #1967D2;\n",
              "      height: 32px;\n",
              "      padding: 0 0 0 0;\n",
              "      width: 32px;\n",
              "    }\n",
              "\n",
              "    .colab-df-convert:hover {\n",
              "      background-color: #E2EBFA;\n",
              "      box-shadow: 0px 1px 2px rgba(60, 64, 67, 0.3), 0px 1px 3px 1px rgba(60, 64, 67, 0.15);\n",
              "      fill: #174EA6;\n",
              "    }\n",
              "\n",
              "    [theme=dark] .colab-df-convert {\n",
              "      background-color: #3B4455;\n",
              "      fill: #D2E3FC;\n",
              "    }\n",
              "\n",
              "    [theme=dark] .colab-df-convert:hover {\n",
              "      background-color: #434B5C;\n",
              "      box-shadow: 0px 1px 3px 1px rgba(0, 0, 0, 0.15);\n",
              "      filter: drop-shadow(0px 1px 2px rgba(0, 0, 0, 0.3));\n",
              "      fill: #FFFFFF;\n",
              "    }\n",
              "  </style>\n",
              "\n",
              "      <script>\n",
              "        const buttonEl =\n",
              "          document.querySelector('#df-823f59fa-efce-4344-8c46-c73c1a56885c button.colab-df-convert');\n",
              "        buttonEl.style.display =\n",
              "          google.colab.kernel.accessAllowed ? 'block' : 'none';\n",
              "\n",
              "        async function convertToInteractive(key) {\n",
              "          const element = document.querySelector('#df-823f59fa-efce-4344-8c46-c73c1a56885c');\n",
              "          const dataTable =\n",
              "            await google.colab.kernel.invokeFunction('convertToInteractive',\n",
              "                                                     [key], {});\n",
              "          if (!dataTable) return;\n",
              "\n",
              "          const docLinkHtml = 'Like what you see? Visit the ' +\n",
              "            '<a target=\"_blank\" href=https://colab.research.google.com/notebooks/data_table.ipynb>data table notebook</a>'\n",
              "            + ' to learn more about interactive tables.';\n",
              "          element.innerHTML = '';\n",
              "          dataTable['output_type'] = 'display_data';\n",
              "          await google.colab.output.renderOutput(dataTable, element);\n",
              "          const docLink = document.createElement('div');\n",
              "          docLink.innerHTML = docLinkHtml;\n",
              "          element.appendChild(docLink);\n",
              "        }\n",
              "      </script>\n",
              "    </div>\n",
              "  </div>\n",
              "  "
            ]
          },
          "metadata": {},
          "execution_count": 117
        }
      ]
    },
    {
      "cell_type": "markdown",
      "source": [
        "**가장 싫어요가 많은 카테고리**"
      ],
      "metadata": {
        "id": "NVQWfRqyFu8q"
      }
    },
    {
      "cell_type": "code",
      "source": [
        "print_top5('category', 'dislikes')"
      ],
      "metadata": {
        "colab": {
          "base_uri": "https://localhost:8080/",
          "height": 294
        },
        "id": "frn5Ls2nFyC3",
        "outputId": "dbedb996-d9c4-4db7-a1aa-e91e7e63f6ae"
      },
      "execution_count": 118,
      "outputs": [
        {
          "output_type": "stream",
          "name": "stderr",
          "text": [
            "<ipython-input-107-9dc4d750c50c>:2: FutureWarning: Indexing with multiple keys (implicitly converted to a tuple of keys) will be deprecated, use a list instead.\n",
            "  df2 = df.groupby(column_of_interest)['view_count', 'likes',    'comment_count', 'dislikes'].apply(lambda x: x.astype(int).sum())\n"
          ]
        },
        {
          "output_type": "execute_result",
          "data": {
            "text/plain": [
              "                  view_count       likes  comment_count  dislikes\n",
              "category                                                         \n",
              "Music           120272466945  8133643152     1060186389  63011106\n",
              "Entertainment    72137207642  2122274304      178907514  20612149\n",
              "People & Blogs   24844819637   905773471       70615255  10633982\n",
              "Comedy           13767484601   420991494       34358322   6858961\n",
              "Gaming            8031980640   239929364       20921045   3735232"
            ],
            "text/html": [
              "\n",
              "  <div id=\"df-22ddb1e1-af06-4129-825e-e0beb3604ebb\">\n",
              "    <div class=\"colab-df-container\">\n",
              "      <div>\n",
              "<style scoped>\n",
              "    .dataframe tbody tr th:only-of-type {\n",
              "        vertical-align: middle;\n",
              "    }\n",
              "\n",
              "    .dataframe tbody tr th {\n",
              "        vertical-align: top;\n",
              "    }\n",
              "\n",
              "    .dataframe thead th {\n",
              "        text-align: right;\n",
              "    }\n",
              "</style>\n",
              "<table border=\"1\" class=\"dataframe\">\n",
              "  <thead>\n",
              "    <tr style=\"text-align: right;\">\n",
              "      <th></th>\n",
              "      <th>view_count</th>\n",
              "      <th>likes</th>\n",
              "      <th>comment_count</th>\n",
              "      <th>dislikes</th>\n",
              "    </tr>\n",
              "    <tr>\n",
              "      <th>category</th>\n",
              "      <th></th>\n",
              "      <th></th>\n",
              "      <th></th>\n",
              "      <th></th>\n",
              "    </tr>\n",
              "  </thead>\n",
              "  <tbody>\n",
              "    <tr>\n",
              "      <th>Music</th>\n",
              "      <td>120272466945</td>\n",
              "      <td>8133643152</td>\n",
              "      <td>1060186389</td>\n",
              "      <td>63011106</td>\n",
              "    </tr>\n",
              "    <tr>\n",
              "      <th>Entertainment</th>\n",
              "      <td>72137207642</td>\n",
              "      <td>2122274304</td>\n",
              "      <td>178907514</td>\n",
              "      <td>20612149</td>\n",
              "    </tr>\n",
              "    <tr>\n",
              "      <th>People &amp; Blogs</th>\n",
              "      <td>24844819637</td>\n",
              "      <td>905773471</td>\n",
              "      <td>70615255</td>\n",
              "      <td>10633982</td>\n",
              "    </tr>\n",
              "    <tr>\n",
              "      <th>Comedy</th>\n",
              "      <td>13767484601</td>\n",
              "      <td>420991494</td>\n",
              "      <td>34358322</td>\n",
              "      <td>6858961</td>\n",
              "    </tr>\n",
              "    <tr>\n",
              "      <th>Gaming</th>\n",
              "      <td>8031980640</td>\n",
              "      <td>239929364</td>\n",
              "      <td>20921045</td>\n",
              "      <td>3735232</td>\n",
              "    </tr>\n",
              "  </tbody>\n",
              "</table>\n",
              "</div>\n",
              "      <button class=\"colab-df-convert\" onclick=\"convertToInteractive('df-22ddb1e1-af06-4129-825e-e0beb3604ebb')\"\n",
              "              title=\"Convert this dataframe to an interactive table.\"\n",
              "              style=\"display:none;\">\n",
              "        \n",
              "  <svg xmlns=\"http://www.w3.org/2000/svg\" height=\"24px\"viewBox=\"0 0 24 24\"\n",
              "       width=\"24px\">\n",
              "    <path d=\"M0 0h24v24H0V0z\" fill=\"none\"/>\n",
              "    <path d=\"M18.56 5.44l.94 2.06.94-2.06 2.06-.94-2.06-.94-.94-2.06-.94 2.06-2.06.94zm-11 1L8.5 8.5l.94-2.06 2.06-.94-2.06-.94L8.5 2.5l-.94 2.06-2.06.94zm10 10l.94 2.06.94-2.06 2.06-.94-2.06-.94-.94-2.06-.94 2.06-2.06.94z\"/><path d=\"M17.41 7.96l-1.37-1.37c-.4-.4-.92-.59-1.43-.59-.52 0-1.04.2-1.43.59L10.3 9.45l-7.72 7.72c-.78.78-.78 2.05 0 2.83L4 21.41c.39.39.9.59 1.41.59.51 0 1.02-.2 1.41-.59l7.78-7.78 2.81-2.81c.8-.78.8-2.07 0-2.86zM5.41 20L4 18.59l7.72-7.72 1.47 1.35L5.41 20z\"/>\n",
              "  </svg>\n",
              "      </button>\n",
              "      \n",
              "  <style>\n",
              "    .colab-df-container {\n",
              "      display:flex;\n",
              "      flex-wrap:wrap;\n",
              "      gap: 12px;\n",
              "    }\n",
              "\n",
              "    .colab-df-convert {\n",
              "      background-color: #E8F0FE;\n",
              "      border: none;\n",
              "      border-radius: 50%;\n",
              "      cursor: pointer;\n",
              "      display: none;\n",
              "      fill: #1967D2;\n",
              "      height: 32px;\n",
              "      padding: 0 0 0 0;\n",
              "      width: 32px;\n",
              "    }\n",
              "\n",
              "    .colab-df-convert:hover {\n",
              "      background-color: #E2EBFA;\n",
              "      box-shadow: 0px 1px 2px rgba(60, 64, 67, 0.3), 0px 1px 3px 1px rgba(60, 64, 67, 0.15);\n",
              "      fill: #174EA6;\n",
              "    }\n",
              "\n",
              "    [theme=dark] .colab-df-convert {\n",
              "      background-color: #3B4455;\n",
              "      fill: #D2E3FC;\n",
              "    }\n",
              "\n",
              "    [theme=dark] .colab-df-convert:hover {\n",
              "      background-color: #434B5C;\n",
              "      box-shadow: 0px 1px 3px 1px rgba(0, 0, 0, 0.15);\n",
              "      filter: drop-shadow(0px 1px 2px rgba(0, 0, 0, 0.3));\n",
              "      fill: #FFFFFF;\n",
              "    }\n",
              "  </style>\n",
              "\n",
              "      <script>\n",
              "        const buttonEl =\n",
              "          document.querySelector('#df-22ddb1e1-af06-4129-825e-e0beb3604ebb button.colab-df-convert');\n",
              "        buttonEl.style.display =\n",
              "          google.colab.kernel.accessAllowed ? 'block' : 'none';\n",
              "\n",
              "        async function convertToInteractive(key) {\n",
              "          const element = document.querySelector('#df-22ddb1e1-af06-4129-825e-e0beb3604ebb');\n",
              "          const dataTable =\n",
              "            await google.colab.kernel.invokeFunction('convertToInteractive',\n",
              "                                                     [key], {});\n",
              "          if (!dataTable) return;\n",
              "\n",
              "          const docLinkHtml = 'Like what you see? Visit the ' +\n",
              "            '<a target=\"_blank\" href=https://colab.research.google.com/notebooks/data_table.ipynb>data table notebook</a>'\n",
              "            + ' to learn more about interactive tables.';\n",
              "          element.innerHTML = '';\n",
              "          dataTable['output_type'] = 'display_data';\n",
              "          await google.colab.output.renderOutput(dataTable, element);\n",
              "          const docLink = document.createElement('div');\n",
              "          docLink.innerHTML = docLinkHtml;\n",
              "          element.appendChild(docLink);\n",
              "        }\n",
              "      </script>\n",
              "    </div>\n",
              "  </div>\n",
              "  "
            ]
          },
          "metadata": {},
          "execution_count": 118
        }
      ]
    },
    {
      "cell_type": "markdown",
      "source": [
        "**트렌딩 영상에 대한 카테고리 countplot**"
      ],
      "metadata": {
        "id": "lF8tisQ8F5Mj"
      }
    },
    {
      "cell_type": "code",
      "source": [
        "plt.figure(figsize = (14,10))\n",
        "g = sns.countplot('category', data = df, palette=\"Set1\", order = df['category'].value_counts().index)\n",
        "g.set_xticklabels(g.get_xticklabels(),rotation=45, ha=\"right\")\n",
        "g.set_title(\"카테고리 countplot\", fontsize=15)\n",
        "g.set_xlabel(\"\", fontsize=12)\n",
        "g.set_ylabel(\"Count\", fontsize=12)\n",
        "plt.subplots_adjust(wspace = 0.9, hspace = 0.9, top = 0.9)\n",
        "plt.show()"
      ],
      "metadata": {
        "colab": {
          "base_uri": "https://localhost:8080/",
          "height": 751
        },
        "id": "JdEuM2fsGpC4",
        "outputId": "e06a5805-a8ba-4a98-f7f3-4455b18af743"
      },
      "execution_count": 119,
      "outputs": [
        {
          "output_type": "stream",
          "name": "stderr",
          "text": [
            "/usr/local/lib/python3.8/dist-packages/seaborn/_decorators.py:36: FutureWarning: Pass the following variable as a keyword arg: x. From version 0.12, the only valid positional argument will be `data`, and passing other arguments without an explicit keyword will result in an error or misinterpretation.\n",
            "  warnings.warn(\n"
          ]
        },
        {
          "output_type": "display_data",
          "data": {
            "text/plain": [
              "<Figure size 1008x720 with 1 Axes>"
            ],
            "image/png": "[encoded data removed]"
          },
          "metadata": {
            "image/png": {
              "width": 848,
              "height": 677
            },
            "needs_background": "light"
          }
        }
      ]
    },
    {
      "cell_type": "markdown",
      "source": [
        "**조회수, 좋아요, 싫어요와 댓글수가 서로 연관성이 있는가?**"
      ],
      "metadata": {
        "id": "CBwAgIHcG9cB"
      }
    },
    {
      "cell_type": "code",
      "source": [
        "columns_of_interest = ['view_count', 'likes', 'dislikes','comment_count']\n",
        "corr_matrix = df[columns_of_interest].corr()\n",
        "corr_matrix"
      ],
      "metadata": {
        "colab": {
          "base_uri": "https://localhost:8080/",
          "height": 175
        },
        "id": "aun_RHKmHMPT",
        "outputId": "ce0f13b4-6593-4bdc-89ef-4719b291c1d5"
      },
      "execution_count": 120,
      "outputs": [
        {
          "output_type": "execute_result",
          "data": {
            "text/plain": [
              "               view_count     likes  dislikes  comment_count\n",
              "view_count       1.000000  0.875109  0.526336       0.780969\n",
              "likes            0.875109  1.000000  0.563081       0.825373\n",
              "dislikes         0.526336  0.563081  1.000000       0.585487\n",
              "comment_count    0.780969  0.825373  0.585487       1.000000"
            ],
            "text/html": [
              "\n",
              "  <div id=\"df-50b2a024-4fb7-4e3a-93c1-5e6d672753ab\">\n",
              "    <div class=\"colab-df-container\">\n",
              "      <div>\n",
              "<style scoped>\n",
              "    .dataframe tbody tr th:only-of-type {\n",
              "        vertical-align: middle;\n",
              "    }\n",
              "\n",
              "    .dataframe tbody tr th {\n",
              "        vertical-align: top;\n",
              "    }\n",
              "\n",
              "    .dataframe thead th {\n",
              "        text-align: right;\n",
              "    }\n",
              "</style>\n",
              "<table border=\"1\" class=\"dataframe\">\n",
              "  <thead>\n",
              "    <tr style=\"text-align: right;\">\n",
              "      <th></th>\n",
              "      <th>view_count</th>\n",
              "      <th>likes</th>\n",
              "      <th>dislikes</th>\n",
              "      <th>comment_count</th>\n",
              "    </tr>\n",
              "  </thead>\n",
              "  <tbody>\n",
              "    <tr>\n",
              "      <th>view_count</th>\n",
              "      <td>1.000000</td>\n",
              "      <td>0.875109</td>\n",
              "      <td>0.526336</td>\n",
              "      <td>0.780969</td>\n",
              "    </tr>\n",
              "    <tr>\n",
              "      <th>likes</th>\n",
              "      <td>0.875109</td>\n",
              "      <td>1.000000</td>\n",
              "      <td>0.563081</td>\n",
              "      <td>0.825373</td>\n",
              "    </tr>\n",
              "    <tr>\n",
              "      <th>dislikes</th>\n",
              "      <td>0.526336</td>\n",
              "      <td>0.563081</td>\n",
              "      <td>1.000000</td>\n",
              "      <td>0.585487</td>\n",
              "    </tr>\n",
              "    <tr>\n",
              "      <th>comment_count</th>\n",
              "      <td>0.780969</td>\n",
              "      <td>0.825373</td>\n",
              "      <td>0.585487</td>\n",
              "      <td>1.000000</td>\n",
              "    </tr>\n",
              "  </tbody>\n",
              "</table>\n",
              "</div>\n",
              "      <button class=\"colab-df-convert\" onclick=\"convertToInteractive('df-50b2a024-4fb7-4e3a-93c1-5e6d672753ab')\"\n",
              "              title=\"Convert this dataframe to an interactive table.\"\n",
              "              style=\"display:none;\">\n",
              "        \n",
              "  <svg xmlns=\"http://www.w3.org/2000/svg\" height=\"24px\"viewBox=\"0 0 24 24\"\n",
              "       width=\"24px\">\n",
              "    <path d=\"M0 0h24v24H0V0z\" fill=\"none\"/>\n",
              "    <path d=\"M18.56 5.44l.94 2.06.94-2.06 2.06-.94-2.06-.94-.94-2.06-.94 2.06-2.06.94zm-11 1L8.5 8.5l.94-2.06 2.06-.94-2.06-.94L8.5 2.5l-.94 2.06-2.06.94zm10 10l.94 2.06.94-2.06 2.06-.94-2.06-.94-.94-2.06-.94 2.06-2.06.94z\"/><path d=\"M17.41 7.96l-1.37-1.37c-.4-.4-.92-.59-1.43-.59-.52 0-1.04.2-1.43.59L10.3 9.45l-7.72 7.72c-.78.78-.78 2.05 0 2.83L4 21.41c.39.39.9.59 1.41.59.51 0 1.02-.2 1.41-.59l7.78-7.78 2.81-2.81c.8-.78.8-2.07 0-2.86zM5.41 20L4 18.59l7.72-7.72 1.47 1.35L5.41 20z\"/>\n",
              "  </svg>\n",
              "      </button>\n",
              "      \n",
              "  <style>\n",
              "    .colab-df-container {\n",
              "      display:flex;\n",
              "      flex-wrap:wrap;\n",
              "      gap: 12px;\n",
              "    }\n",
              "\n",
              "    .colab-df-convert {\n",
              "      background-color: #E8F0FE;\n",
              "      border: none;\n",
              "      border-radius: 50%;\n",
              "      cursor: pointer;\n",
              "      display: none;\n",
              "      fill: #1967D2;\n",
              "      height: 32px;\n",
              "      padding: 0 0 0 0;\n",
              "      width: 32px;\n",
              "    }\n",
              "\n",
              "    .colab-df-convert:hover {\n",
              "      background-color: #E2EBFA;\n",
              "      box-shadow: 0px 1px 2px rgba(60, 64, 67, 0.3), 0px 1px 3px 1px rgba(60, 64, 67, 0.15);\n",
              "      fill: #174EA6;\n",
              "    }\n",
              "\n",
              "    [theme=dark] .colab-df-convert {\n",
              "      background-color: #3B4455;\n",
              "      fill: #D2E3FC;\n",
              "    }\n",
              "\n",
              "    [theme=dark] .colab-df-convert:hover {\n",
              "      background-color: #434B5C;\n",
              "      box-shadow: 0px 1px 3px 1px rgba(0, 0, 0, 0.15);\n",
              "      filter: drop-shadow(0px 1px 2px rgba(0, 0, 0, 0.3));\n",
              "      fill: #FFFFFF;\n",
              "    }\n",
              "  </style>\n",
              "\n",
              "      <script>\n",
              "        const buttonEl =\n",
              "          document.querySelector('#df-50b2a024-4fb7-4e3a-93c1-5e6d672753ab button.colab-df-convert');\n",
              "        buttonEl.style.display =\n",
              "          google.colab.kernel.accessAllowed ? 'block' : 'none';\n",
              "\n",
              "        async function convertToInteractive(key) {\n",
              "          const element = document.querySelector('#df-50b2a024-4fb7-4e3a-93c1-5e6d672753ab');\n",
              "          const dataTable =\n",
              "            await google.colab.kernel.invokeFunction('convertToInteractive',\n",
              "                                                     [key], {});\n",
              "          if (!dataTable) return;\n",
              "\n",
              "          const docLinkHtml = 'Like what you see? Visit the ' +\n",
              "            '<a target=\"_blank\" href=https://colab.research.google.com/notebooks/data_table.ipynb>data table notebook</a>'\n",
              "            + ' to learn more about interactive tables.';\n",
              "          element.innerHTML = '';\n",
              "          dataTable['output_type'] = 'display_data';\n",
              "          await google.colab.output.renderOutput(dataTable, element);\n",
              "          const docLink = document.createElement('div');\n",
              "          docLink.innerHTML = docLinkHtml;\n",
              "          element.appendChild(docLink);\n",
              "        }\n",
              "      </script>\n",
              "    </div>\n",
              "  </div>\n",
              "  "
            ]
          },
          "metadata": {},
          "execution_count": 120
        }
      ]
    },
    {
      "cell_type": "markdown",
      "source": [
        "**이걸로 아래에 긍정적 상관관계가 정리됩니다.**"
      ],
      "metadata": {
        "id": "Dq26nbycHmgM"
      }
    },
    {
      "cell_type": "markdown",
      "source": [
        "**1. 조회수와 좋아요**\n",
        "\n",
        "**2. 좋아요와 댓글 수**\n",
        "\n",
        "**3. 싫어요와 댓글 수**\n",
        "\n",
        "\n",
        "\n"
      ],
      "metadata": {
        "id": "uhQS0g2wHq1D"
      }
    },
    {
      "cell_type": "markdown",
      "source": [
        "- **상관관계에 대한 heatmap 시각화**"
      ],
      "metadata": {
        "id": "cFNTmjZUIHGg"
      }
    },
    {
      "cell_type": "code",
      "source": [
        "fig, ax = plt.subplots(figsize=(15,15))\n",
        "heatmap = ax.imshow(corr_matrix, interpolation='nearest', cmap=cm.coolwarm)\n",
        "# making the colorbar on the side\n",
        "cbar_min = corr_matrix.min().min()\n",
        "cbar_max = corr_matrix.max().max()\n",
        "cbar = fig.colorbar(heatmap, ticks=[cbar_min, cbar_max])\n",
        "# making the labels\n",
        "labels = ['']\n",
        "for column in columns_of_interest:\n",
        "    labels.append(column)\n",
        "    labels.append('')\n",
        "ax.set_yticklabels(labels, minor=False)\n",
        "ax.set_xticklabels(labels, minor=False)\n",
        "plt.show()"
      ],
      "metadata": {
        "colab": {
          "base_uri": "https://localhost:8080/",
          "height": 857
        },
        "id": "w4LjVpw8Hp65",
        "outputId": "aff3d0ba-8adb-470b-f58b-da903d5dd061"
      },
      "execution_count": 121,
      "outputs": [
        {
          "output_type": "display_data",
          "data": {
            "text/plain": [
              "<Figure size 1080x1080 with 2 Axes>"
            ],
            "image/png": "[encoded data removed]"
          },
          "metadata": {
            "image/png": {
              "width": 887,
              "height": 840
            },
            "needs_background": "light"
          }
        }
      ]
    },
    {
      "cell_type": "code",
      "source": [
        "df1 = pd.read_csv(\"/content/KR_youtube_trending_data.csv\")"
      ],
      "metadata": {
        "id": "h3nUhR9wm6y3"
      },
      "execution_count": 125,
      "outputs": []
    },
    {
      "cell_type": "markdown",
      "source": [
        "----------------------------------------------------------------"
      ],
      "metadata": {
        "id": "dUGwnApTn7e8"
      }
    },
    {
      "cell_type": "markdown",
      "source": [
        "- **데이터들에 대한 분포도**"
      ],
      "metadata": {
        "id": "LxaSNsp6mTyG"
      }
    },
    {
      "cell_type": "code",
      "source": [
        "labels = ['view_count', 'likes', 'dislikes', 'comment_count']\n",
        "\n",
        "df1['view_count'] = np.log(df1['view_count'])\n",
        "df1['likes'] = np.log(df1['likes'] + 1)\n",
        "df1['dislikes'] = np.log(df1['dislikes'] + 1)\n",
        "df1['comment_count'] = np.log(df1['comment_count'] + 1)\n",
        "\n",
        "\n",
        "fig, plots = plt.subplots(2, 2, figsize = (10,5))\n",
        "plots = plots.flatten()\n",
        "log_labels = ['view_count', 'likes', 'dislikes', 'comment_count']\n",
        "\n",
        "for i in range(len(labels)):\n",
        "    plots[i] = sns.distplot(df1[log_labels[i]], ax = plots[i])\n",
        "    plots[i].set_title(\" '{}' 분포도 \".format(labels[i]))\n",
        "    \n",
        "plt.tight_layout()"
      ],
      "metadata": {
        "colab": {
          "base_uri": "https://localhost:8080/",
          "height": 540
        },
        "id": "bx7GS0n9Tuie",
        "outputId": "708db39f-0a4f-41ab-db60-cd8ed6892e0f"
      },
      "execution_count": 129,
      "outputs": [
        {
          "output_type": "stream",
          "name": "stderr",
          "text": [
            "/usr/local/lib/python3.8/dist-packages/seaborn/distributions.py:2619: FutureWarning: `distplot` is a deprecated function and will be removed in a future version. Please adapt your code to use either `displot` (a figure-level function with similar flexibility) or `histplot` (an axes-level function for histograms).\n",
            "  warnings.warn(msg, FutureWarning)\n",
            "/usr/local/lib/python3.8/dist-packages/seaborn/distributions.py:2619: FutureWarning: `distplot` is a deprecated function and will be removed in a future version. Please adapt your code to use either `displot` (a figure-level function with similar flexibility) or `histplot` (an axes-level function for histograms).\n",
            "  warnings.warn(msg, FutureWarning)\n",
            "/usr/local/lib/python3.8/dist-packages/seaborn/distributions.py:2619: FutureWarning: `distplot` is a deprecated function and will be removed in a future version. Please adapt your code to use either `displot` (a figure-level function with similar flexibility) or `histplot` (an axes-level function for histograms).\n",
            "  warnings.warn(msg, FutureWarning)\n",
            "/usr/local/lib/python3.8/dist-packages/seaborn/distributions.py:2619: FutureWarning: `distplot` is a deprecated function and will be removed in a future version. Please adapt your code to use either `displot` (a figure-level function with similar flexibility) or `histplot` (an axes-level function for histograms).\n",
            "  warnings.warn(msg, FutureWarning)\n"
          ]
        },
        {
          "output_type": "display_data",
          "data": {
            "text/plain": [
              "<Figure size 720x360 with 4 Axes>"
            ],
            "image/png": "[encoded data removed]"
          },
          "metadata": {
            "image/png": {
              "width": 707,
              "height": 355
            },
            "needs_background": "light"
          }
        }
      ]
    }
  ]
}